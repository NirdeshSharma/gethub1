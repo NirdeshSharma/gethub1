{
  "nbformat": 4,
  "nbformat_minor": 0,
  "metadata": {
    "colab": {
      "provenance": [],
      "authorship_tag": "ABX9TyMNeO0OamIE1CHKyu1OHdR1",
      "include_colab_link": true
    },
    "kernelspec": {
      "name": "python3",
      "display_name": "Python 3"
    },
    "language_info": {
      "name": "python"
    }
  },
  "cells": [
    {
      "cell_type": "markdown",
      "metadata": {
        "id": "view-in-github",
        "colab_type": "text"
      },
      "source": [
        "<a href=\"https://colab.research.google.com/github/NirdeshSharma/gethub1/blob/master/IBM.ipynb\" target=\"_parent\"><img src=\"https://colab.research.google.com/assets/colab-badge.svg\" alt=\"Open In Colab\"/></a>"
      ]
    },
    {
      "cell_type": "code",
      "execution_count": null,
      "metadata": {
        "colab": {
          "base_uri": "https://localhost:8080/"
        },
        "id": "5WweBQY5x6Dw",
        "outputId": "50365506-cb37-4610-b50c-65cad55e199f"
      },
      "outputs": [
        {
          "output_type": "stream",
          "name": "stdout",
          "text": [
            "Enter the value of a34\n",
            "Enter the value of b45\n",
            "Enter the value of c56\n",
            "Enter the value of d45\n",
            "Enter the value of e768\n",
            "e is greater\n"
          ]
        }
      ],
      "source": [
        "a=int(input(\"Enter the value of a\"))\n",
        "b=int(input(\"Enter the value of b\"))\n",
        "c=int(input(\"Enter the value of c\"))\n",
        "d=int (input(\"Enter the value of d\"))\n",
        "e=int(input(\"Enter the value of e\"))\n",
        "if a>b:\n",
        "  if  a>c:\n",
        "    if a>d:\n",
        "      if a>e:\n",
        "         print(\"a is greater\")\n",
        "else:\n",
        "  if  b>c:\n",
        "    if b>d:\n",
        "      if b>e:\n",
        "         print(\"b is greater\")\n",
        "  else:\n",
        "    if c>d:\n",
        "      if c>e:\n",
        "        print(\"c is greater\")\n",
        "        \n",
        "      else:\n",
        "       if d>e:\n",
        "        print(\"d is greater\")\n",
        "      else:\n",
        "        print(\"e is greater\")\n",
        "     \n",
        "\n",
        "     "
      ]
    },
    {
      "cell_type": "code",
      "source": [
        "print (\"Welcome to the blood donatiom camp\")\n",
        "age=int(input(\"Enter ur age \"))\n",
        "weight=int(input(\"Enter ur weight \"))\n",
        "height=int(input(\"Enter ur height\"))\n",
        "BG=(input(\"Enter ur BG\"))\n",
        "if age>19:\n",
        "  if weight>55:\n",
        "    if height>153:\n",
        "      if BG==\"O+\" or BG==\"AB+\" or BG==\"B+\" or BG==\"AB-\" or BG==\"O-\": \n",
        "        print(\"u r eligibal\")\n",
        "      else:\n",
        "        print(\"BG not match\")\n",
        "    else:\n",
        "      print(\"height not match\")\n",
        "  else:\n",
        "    print(\"u r under weight\")\n",
        "else:\n",
        "  print(\"u r under age\")    "
      ],
      "metadata": {
        "colab": {
          "base_uri": "https://localhost:8080/"
        },
        "id": "DVfwIchl-XMx",
        "outputId": "c2196fc5-d2ee-4289-d88d-df70d40a1dcb"
      },
      "execution_count": null,
      "outputs": [
        {
          "output_type": "stream",
          "name": "stdout",
          "text": [
            "Welcome to the blood donatiom camp\n",
            "Enter ur age 17\n",
            "Enter ur weight 57\n",
            "Enter ur height178\n",
            "Enter ur BGAB+\n",
            "u r under age\n"
          ]
        }
      ]
    },
    {
      "cell_type": "code",
      "source": [
        "print(\"Welcome to Campus Drive\")\n",
        "age=int(input(\"Enter ur age\"))\n",
        "clg=input(\"Enter ur clg\")\n",
        "Education=input (\"Enter ur education \")\n",
        "Experience=int(input(\"Enter ur experience   minimum 5 yr \"))\n",
        "if age>19:\n",
        "  if clg == \"RIT\" or \"RCE\" or \"QUANTUM\" or \"COER\":\n",
        "    if Education == \"BTECH\" or \"BCA\" or \"MCA\":\n",
        "      if Experience>5:\n",
        "        print(\"u r eligible\")\n",
        "      else:\n",
        "        print(\"u have low experience\")\n",
        "    else:\n",
        "      print(\"u have not education\")\n",
        "  else:\n",
        "    print(\"ur clg is anable\")\n",
        "else:\n",
        "  print(\"u r under age\")  "
      ],
      "metadata": {
        "colab": {
          "base_uri": "https://localhost:8080/"
        },
        "id": "VCYPXcY0DDKw",
        "outputId": "cad0cce7-cd99-42fc-bc8a-67111708633d"
      },
      "execution_count": null,
      "outputs": [
        {
          "output_type": "stream",
          "name": "stdout",
          "text": [
            "Welcome to Campus Drive\n",
            "Enter ur age46\n",
            "Enter ur clgRIT\n",
            "Enter ur education BTECH\n",
            "Enter ur experience   minimum 5 yr 8\n",
            "u r eligible\n"
          ]
        }
      ]
    },
    {
      "cell_type": "code",
      "source": [
        "brothers = [\"Ankit\",\"Aayush\",\"Sagar\",\"Aakash\"]\n"
      ],
      "metadata": {
        "id": "rPNfkRlnL-n8"
      },
      "execution_count": null,
      "outputs": []
    },
    {
      "cell_type": "code",
      "source": [
        "brothers"
      ],
      "metadata": {
        "colab": {
          "base_uri": "https://localhost:8080/"
        },
        "id": "izr1Oxd8Mu5l",
        "outputId": "1e78b51a-fe10-4d5d-fff8-bd51daf46d4c"
      },
      "execution_count": null,
      "outputs": [
        {
          "output_type": "execute_result",
          "data": {
            "text/plain": [
              "['Ankit', 'Aayush', 'Sagar', 'Aakash']"
            ]
          },
          "metadata": {},
          "execution_count": 58
        }
      ]
    },
    {
      "cell_type": "code",
      "source": [
        "for name in brothers:\n",
        "  print(name)"
      ],
      "metadata": {
        "colab": {
          "base_uri": "https://localhost:8080/"
        },
        "id": "gkx0P94HMwka",
        "outputId": "e6d240f8-7a74-447f-fae4-f6297c0c7e17"
      },
      "execution_count": null,
      "outputs": [
        {
          "output_type": "stream",
          "name": "stdout",
          "text": [
            "Ankit\n",
            "Aayush\n",
            "Sagar\n",
            "Aakash\n"
          ]
        }
      ]
    },
    {
      "cell_type": "code",
      "source": [
        "for name in brothers:\n",
        "  print(name,end='')"
      ],
      "metadata": {
        "colab": {
          "base_uri": "https://localhost:8080/"
        },
        "id": "RPFfH-wCNdFg",
        "outputId": "fac85bc4-807d-402e-a77b-0add5d523483"
      },
      "execution_count": null,
      "outputs": [
        {
          "output_type": "stream",
          "name": "stdout",
          "text": [
            "AnkitAayushSagarAakash"
          ]
        }
      ]
    },
    {
      "cell_type": "code",
      "source": [
        "for name in brothers:\n",
        "  print(name,end=',')"
      ],
      "metadata": {
        "colab": {
          "base_uri": "https://localhost:8080/"
        },
        "id": "mArWzkrkOTnD",
        "outputId": "40484d0d-224a-4958-9d65-3e1e05536fa6"
      },
      "execution_count": null,
      "outputs": [
        {
          "output_type": "stream",
          "name": "stdout",
          "text": [
            "Ankit,Aayush,Sagar,Aakash,"
          ]
        }
      ]
    },
    {
      "cell_type": "code",
      "source": [
        "numbers=list(range(0,50))"
      ],
      "metadata": {
        "id": "lhLLkrV-Opv2"
      },
      "execution_count": null,
      "outputs": []
    },
    {
      "cell_type": "code",
      "source": [
        "range(0,6)"
      ],
      "metadata": {
        "colab": {
          "base_uri": "https://localhost:8080/"
        },
        "id": "M7BVK-KrPGn_",
        "outputId": "d6fdfc44-0299-45ae-ca18-1a168f355f77"
      },
      "execution_count": null,
      "outputs": [
        {
          "output_type": "execute_result",
          "data": {
            "text/plain": [
              "range(0, 6)"
            ]
          },
          "metadata": {},
          "execution_count": 66
        }
      ]
    },
    {
      "cell_type": "code",
      "source": [
        "a=range(0,6)"
      ],
      "metadata": {
        "id": "1j_NKx8AQ6Dl"
      },
      "execution_count": null,
      "outputs": []
    },
    {
      "cell_type": "code",
      "source": [
        "a"
      ],
      "metadata": {
        "colab": {
          "base_uri": "https://localhost:8080/"
        },
        "id": "aaiA6gnGQ-49",
        "outputId": "bfd7c290-f360-4258-cad6-c142e32e16a0"
      },
      "execution_count": null,
      "outputs": [
        {
          "output_type": "execute_result",
          "data": {
            "text/plain": [
              "range(0, 6)"
            ]
          },
          "metadata": {},
          "execution_count": 69
        }
      ]
    },
    {
      "cell_type": "code",
      "source": [
        "numbers = list(range(0,50))"
      ],
      "metadata": {
        "id": "dsuwOnVwRLI5"
      },
      "execution_count": null,
      "outputs": []
    },
    {
      "cell_type": "code",
      "source": [
        "for num in numbers:\n",
        "  print(num,end=',')"
      ],
      "metadata": {
        "colab": {
          "base_uri": "https://localhost:8080/"
        },
        "id": "2RQ03HvfRUjq",
        "outputId": "82948cca-c5e9-4f95-87e1-621c4602f5d1"
      },
      "execution_count": null,
      "outputs": [
        {
          "output_type": "stream",
          "name": "stdout",
          "text": [
            "0,1,2,3,4,5,6,7,8,9,10,11,12,13,14,15,16,17,18,19,20,21,22,23,24,25,26,27,28,29,30,31,32,33,34,35,36,37,38,39,40,41,42,43,44,45,46,47,48,49,"
          ]
        }
      ]
    },
    {
      "cell_type": "code",
      "source": [
        "for num in numbers:\n",
        "  if num<25:\n",
        "    print(\"Number is less than 25\",num)\n",
        "  elif num==25:\n",
        "    print(\"Number is equal to 25\",num)  \n",
        "  else:\n",
        "    print(\"Number is greater than 25\",num)  "
      ],
      "metadata": {
        "colab": {
          "base_uri": "https://localhost:8080/"
        },
        "id": "rynibbCURk02",
        "outputId": "47d4a942-8983-414c-ed60-530c021451f6"
      },
      "execution_count": null,
      "outputs": [
        {
          "output_type": "stream",
          "name": "stdout",
          "text": [
            "Number is less than 25 0\n",
            "Number is less than 25 1\n",
            "Number is less than 25 2\n",
            "Number is less than 25 3\n",
            "Number is less than 25 4\n",
            "Number is less than 25 5\n",
            "Number is less than 25 6\n",
            "Number is less than 25 7\n",
            "Number is less than 25 8\n",
            "Number is less than 25 9\n",
            "Number is less than 25 10\n",
            "Number is less than 25 11\n",
            "Number is less than 25 12\n",
            "Number is less than 25 13\n",
            "Number is less than 25 14\n",
            "Number is less than 25 15\n",
            "Number is less than 25 16\n",
            "Number is less than 25 17\n",
            "Number is less than 25 18\n",
            "Number is less than 25 19\n",
            "Number is less than 25 20\n",
            "Number is less than 25 21\n",
            "Number is less than 25 22\n",
            "Number is less than 25 23\n",
            "Number is less than 25 24\n",
            "Number is equal to 25 25\n",
            "Number is greater than 25 26\n",
            "Number is greater than 25 27\n",
            "Number is greater than 25 28\n",
            "Number is greater than 25 29\n",
            "Number is greater than 25 30\n",
            "Number is greater than 25 31\n",
            "Number is greater than 25 32\n",
            "Number is greater than 25 33\n",
            "Number is greater than 25 34\n",
            "Number is greater than 25 35\n",
            "Number is greater than 25 36\n",
            "Number is greater than 25 37\n",
            "Number is greater than 25 38\n",
            "Number is greater than 25 39\n",
            "Number is greater than 25 40\n",
            "Number is greater than 25 41\n",
            "Number is greater than 25 42\n",
            "Number is greater than 25 43\n",
            "Number is greater than 25 44\n",
            "Number is greater than 25 45\n",
            "Number is greater than 25 46\n",
            "Number is greater than 25 47\n",
            "Number is greater than 25 48\n",
            "Number is greater than 25 49\n"
          ]
        }
      ]
    },
    {
      "cell_type": "code",
      "source": [
        "for num in numbers:\n",
        "  if num<25:\n",
        "    print(\"Number is less than 25\",num)\n",
        "    break"
      ],
      "metadata": {
        "colab": {
          "base_uri": "https://localhost:8080/"
        },
        "id": "vEgXcfufSJa3",
        "outputId": "37d3fbc6-5430-4d98-b193-7dc09f26114a"
      },
      "execution_count": null,
      "outputs": [
        {
          "output_type": "stream",
          "name": "stdout",
          "text": [
            "Number is less than 25 0\n"
          ]
        }
      ]
    },
    {
      "cell_type": "code",
      "source": [
        "new_numbers = [100,125,23,25,56,22]"
      ],
      "metadata": {
        "id": "roZWqfBaURBz"
      },
      "execution_count": null,
      "outputs": []
    },
    {
      "cell_type": "code",
      "source": [
        "for num in numbers:\n",
        "  if num<25:\n",
        "    print(\"Number is less than 25\",num)\n",
        "    break"
      ],
      "metadata": {
        "colab": {
          "base_uri": "https://localhost:8080/"
        },
        "id": "XfxdwQdcUebi",
        "outputId": "52959156-570d-4a39-d748-384eb2089dd2"
      },
      "execution_count": null,
      "outputs": [
        {
          "output_type": "stream",
          "name": "stdout",
          "text": [
            "Number is less than 25 0\n"
          ]
        }
      ]
    },
    {
      "cell_type": "code",
      "source": [
        "for num in new_numbers:\n",
        "  if num<25:\n",
        "    print(\"Number is less than 25\",num)\n",
        "    break"
      ],
      "metadata": {
        "colab": {
          "base_uri": "https://localhost:8080/"
        },
        "id": "V8VOU9oDUwmU",
        "outputId": "62a3a57c-bd10-486c-e7b8-f10d7f44a92c"
      },
      "execution_count": null,
      "outputs": [
        {
          "output_type": "stream",
          "name": "stdout",
          "text": [
            "Number is less than 25 23\n"
          ]
        }
      ]
    },
    {
      "cell_type": "code",
      "source": [
        "for num in new_numbers:\n",
        "  if num<60:\n",
        "    print(\"First class\",num)\n",
        "    break"
      ],
      "metadata": {
        "colab": {
          "base_uri": "https://localhost:8080/"
        },
        "id": "5Hjt7N-2VBK7",
        "outputId": "70ac3aac-a489-4e9f-f57c-7a62e8bb9b34"
      },
      "execution_count": null,
      "outputs": [
        {
          "output_type": "stream",
          "name": "stdout",
          "text": [
            "First class 23\n"
          ]
        }
      ]
    },
    {
      "cell_type": "code",
      "source": [
        "for num in new_numbers:\n",
        "  if num<25:\n",
        "    print(\"Number is less than 25\",num)\n",
        "    continue"
      ],
      "metadata": {
        "colab": {
          "base_uri": "https://localhost:8080/"
        },
        "id": "E-0mf5FhVRFC",
        "outputId": "7537327f-2cea-4933-d64c-2f6bb3a5a08d"
      },
      "execution_count": null,
      "outputs": [
        {
          "output_type": "stream",
          "name": "stdout",
          "text": [
            "Number is less than 25 23\n",
            "Number is less than 25 22\n"
          ]
        }
      ]
    },
    {
      "cell_type": "code",
      "source": [
        "marks = [75,88,65,55,45,32]"
      ],
      "metadata": {
        "id": "SP7HlguuWDpU"
      },
      "execution_count": null,
      "outputs": []
    },
    {
      "cell_type": "code",
      "source": [
        "x=[1,2,3,4,5]\n",
        "for i in x:\n",
        "  if i == 4:\n",
        "    break\n",
        "  print(i)"
      ],
      "metadata": {
        "colab": {
          "base_uri": "https://localhost:8080/"
        },
        "id": "7hyX3QmjYowl",
        "outputId": "f971ea0a-c2f8-40fb-de7e-6d1a29d0cc53"
      },
      "execution_count": null,
      "outputs": [
        {
          "output_type": "stream",
          "name": "stdout",
          "text": [
            "1\n",
            "2\n",
            "3\n"
          ]
        }
      ]
    },
    {
      "cell_type": "code",
      "source": [
        "x=[1,2,3,4,5]\n",
        "for i in x:\n",
        "  if i == 4:\n",
        "    continue\n",
        "  print(i)"
      ],
      "metadata": {
        "colab": {
          "base_uri": "https://localhost:8080/"
        },
        "id": "-kEkwxKJbZu5",
        "outputId": "bfe4dd7b-acb9-49a8-d549-65c73d43e59e"
      },
      "execution_count": null,
      "outputs": [
        {
          "output_type": "stream",
          "name": "stdout",
          "text": [
            "1\n",
            "2\n",
            "3\n",
            "5\n"
          ]
        }
      ]
    },
    {
      "cell_type": "code",
      "source": [
        "topping=['mushroom','chicken','olive','baby corn']\n",
        "your_topping = []\n",
        "for i in range(3):\n",
        "  topping1=input('Plese tell me what is your topping;')\n",
        "  if topping1 in topping:\n",
        "    print('Yes we have this'+str(topping1))\n",
        "    your_topping.append(topping1)\n",
        "  else:\n",
        "      print('Sorry we dont have that topping, please select from topping')\n",
        "print('Here are your favorite toppings:'+str(your_topping))"
      ],
      "metadata": {
        "colab": {
          "base_uri": "https://localhost:8080/"
        },
        "id": "43MFDjdncjPx",
        "outputId": "01d0c7e1-72c4-4c51-e29e-a1fb36370f10"
      },
      "execution_count": null,
      "outputs": [
        {
          "output_type": "stream",
          "name": "stdout",
          "text": [
            "Plese tell me what is your topping;olive\n",
            "Yes we have thisolive\n",
            "Plese tell me what is your topping;mushroom\n",
            "Yes we have thismushroom\n",
            "Plese tell me what is your topping;chicken\n",
            "Yes we have thischicken\n",
            "Here are your favorite toppings:['olive', 'mushroom', 'chicken']\n"
          ]
        }
      ]
    },
    {
      "cell_type": "code",
      "source": [
        "toppings=['mushroom','chicken','olive','baby corn']\n",
        "your_toppings = []\n",
        "for i in range(3):\n",
        "  topping1=input('Plese tell me what is your topping;')\n",
        "  if topping1 in toppings:\n",
        "    print('Yes we have this'+str(topping1))\n",
        "    your_toppings.append(topping1)\n",
        "  else:\n",
        "      print('Sorry we dont have that topping, please select from topping')\n",
        "print('Here are your favorite toppings:'+str(your_toppings))\n"
      ],
      "metadata": {
        "colab": {
          "base_uri": "https://localhost:8080/"
        },
        "id": "UXSuHRFTzFDW",
        "outputId": "81235d72-fc7a-469d-fb23-6ed8b127478c"
      },
      "execution_count": null,
      "outputs": [
        {
          "output_type": "stream",
          "name": "stdout",
          "text": [
            "Plese tell me what is your topping;mushroom\n",
            "Yes we have thismushroom\n",
            "Plese tell me what is your topping;olive\n",
            "Yes we have thisolive\n",
            "Plese tell me what is your topping;baby corn\n",
            "Yes we have thisbaby corn\n",
            "Here are your favorite toppings:['mushroom', 'olive', 'baby corn']\n"
          ]
        }
      ]
    },
    {
      "cell_type": "code",
      "source": [
        "for i in range(2,101,2):\n",
        "  print(i)"
      ],
      "metadata": {
        "colab": {
          "base_uri": "https://localhost:8080/"
        },
        "id": "PWkzyTvs2sTg",
        "outputId": "acbf58ac-cc90-4cbd-ad19-2e5f1f0badc4"
      },
      "execution_count": null,
      "outputs": [
        {
          "output_type": "stream",
          "name": "stdout",
          "text": [
            "2\n",
            "4\n",
            "6\n",
            "8\n",
            "10\n",
            "12\n",
            "14\n",
            "16\n",
            "18\n",
            "20\n",
            "22\n",
            "24\n",
            "26\n",
            "28\n",
            "30\n",
            "32\n",
            "34\n",
            "36\n",
            "38\n",
            "40\n",
            "42\n",
            "44\n",
            "46\n",
            "48\n",
            "50\n",
            "52\n",
            "54\n",
            "56\n",
            "58\n",
            "60\n",
            "62\n",
            "64\n",
            "66\n",
            "68\n",
            "70\n",
            "72\n",
            "74\n",
            "76\n",
            "78\n",
            "80\n",
            "82\n",
            "84\n",
            "86\n",
            "88\n",
            "90\n",
            "92\n",
            "94\n",
            "96\n",
            "98\n",
            "100\n"
          ]
        }
      ]
    },
    {
      "cell_type": "code",
      "source": [
        "for i in range(2,21,2):\n",
        "  print(i)"
      ],
      "metadata": {
        "colab": {
          "base_uri": "https://localhost:8080/"
        },
        "id": "m08JlCi-7ef_",
        "outputId": "d9d59eab-32b4-4d05-b5f6-61da68fda303"
      },
      "execution_count": null,
      "outputs": [
        {
          "output_type": "stream",
          "name": "stdout",
          "text": [
            "2\n",
            "4\n",
            "6\n",
            "8\n",
            "10\n",
            "12\n",
            "14\n",
            "16\n",
            "18\n",
            "20\n"
          ]
        }
      ]
    },
    {
      "cell_type": "code",
      "source": [
        "for i in range(0,101,2):\n",
        "  print(i)"
      ],
      "metadata": {
        "colab": {
          "base_uri": "https://localhost:8080/"
        },
        "id": "-PpH0ICl7_bp",
        "outputId": "cff73af8-9970-4d40-e75e-d0e79e8ed4b5"
      },
      "execution_count": null,
      "outputs": [
        {
          "output_type": "stream",
          "name": "stdout",
          "text": [
            "0\n",
            "2\n",
            "4\n",
            "6\n",
            "8\n",
            "10\n",
            "12\n",
            "14\n",
            "16\n",
            "18\n",
            "20\n",
            "22\n",
            "24\n",
            "26\n",
            "28\n",
            "30\n",
            "32\n",
            "34\n",
            "36\n",
            "38\n",
            "40\n",
            "42\n",
            "44\n",
            "46\n",
            "48\n",
            "50\n",
            "52\n",
            "54\n",
            "56\n",
            "58\n",
            "60\n",
            "62\n",
            "64\n",
            "66\n",
            "68\n",
            "70\n",
            "72\n",
            "74\n",
            "76\n",
            "78\n",
            "80\n",
            "82\n",
            "84\n",
            "86\n",
            "88\n",
            "90\n",
            "92\n",
            "94\n",
            "96\n",
            "98\n",
            "100\n"
          ]
        }
      ]
    },
    {
      "cell_type": "code",
      "source": [
        "for i in range(1,101,):\n",
        "  print(i)"
      ],
      "metadata": {
        "colab": {
          "base_uri": "https://localhost:8080/"
        },
        "id": "ny--Xtwy_WgV",
        "outputId": "ade939b0-286c-44a6-ed4e-471e02326255"
      },
      "execution_count": null,
      "outputs": [
        {
          "output_type": "stream",
          "name": "stdout",
          "text": [
            "1\n",
            "2\n",
            "3\n",
            "4\n",
            "5\n",
            "6\n",
            "7\n",
            "8\n",
            "9\n",
            "10\n",
            "11\n",
            "12\n",
            "13\n",
            "14\n",
            "15\n",
            "16\n",
            "17\n",
            "18\n",
            "19\n",
            "20\n",
            "21\n",
            "22\n",
            "23\n",
            "24\n",
            "25\n",
            "26\n",
            "27\n",
            "28\n",
            "29\n",
            "30\n",
            "31\n",
            "32\n",
            "33\n",
            "34\n",
            "35\n",
            "36\n",
            "37\n",
            "38\n",
            "39\n",
            "40\n",
            "41\n",
            "42\n",
            "43\n",
            "44\n",
            "45\n",
            "46\n",
            "47\n",
            "48\n",
            "49\n",
            "50\n",
            "51\n",
            "52\n",
            "53\n",
            "54\n",
            "55\n",
            "56\n",
            "57\n",
            "58\n",
            "59\n",
            "60\n",
            "61\n",
            "62\n",
            "63\n",
            "64\n",
            "65\n",
            "66\n",
            "67\n",
            "68\n",
            "69\n",
            "70\n",
            "71\n",
            "72\n",
            "73\n",
            "74\n",
            "75\n",
            "76\n",
            "77\n",
            "78\n",
            "79\n",
            "80\n",
            "81\n",
            "82\n",
            "83\n",
            "84\n",
            "85\n",
            "86\n",
            "87\n",
            "88\n",
            "89\n",
            "90\n",
            "91\n",
            "92\n",
            "93\n",
            "94\n",
            "95\n",
            "96\n",
            "97\n",
            "98\n",
            "99\n",
            "100\n"
          ]
        }
      ]
    },
    {
      "cell_type": "code",
      "source": [
        "for i in range(100,0,-1):\n",
        "  print(i)"
      ],
      "metadata": {
        "colab": {
          "base_uri": "https://localhost:8080/"
        },
        "id": "Mx_4pBEy_e73",
        "outputId": "677b6b0f-9a4d-4283-cc07-f23b7e142518"
      },
      "execution_count": null,
      "outputs": [
        {
          "output_type": "stream",
          "name": "stdout",
          "text": [
            "100\n",
            "99\n",
            "98\n",
            "97\n",
            "96\n",
            "95\n",
            "94\n",
            "93\n",
            "92\n",
            "91\n",
            "90\n",
            "89\n",
            "88\n",
            "87\n",
            "86\n",
            "85\n",
            "84\n",
            "83\n",
            "82\n",
            "81\n",
            "80\n",
            "79\n",
            "78\n",
            "77\n",
            "76\n",
            "75\n",
            "74\n",
            "73\n",
            "72\n",
            "71\n",
            "70\n",
            "69\n",
            "68\n",
            "67\n",
            "66\n",
            "65\n",
            "64\n",
            "63\n",
            "62\n",
            "61\n",
            "60\n",
            "59\n",
            "58\n",
            "57\n",
            "56\n",
            "55\n",
            "54\n",
            "53\n",
            "52\n",
            "51\n",
            "50\n",
            "49\n",
            "48\n",
            "47\n",
            "46\n",
            "45\n",
            "44\n",
            "43\n",
            "42\n",
            "41\n",
            "40\n",
            "39\n",
            "38\n",
            "37\n",
            "36\n",
            "35\n",
            "34\n",
            "33\n",
            "32\n",
            "31\n",
            "30\n",
            "29\n",
            "28\n",
            "27\n",
            "26\n",
            "25\n",
            "24\n",
            "23\n",
            "22\n",
            "21\n",
            "20\n",
            "19\n",
            "18\n",
            "17\n",
            "16\n",
            "15\n",
            "14\n",
            "13\n",
            "12\n",
            "11\n",
            "10\n",
            "9\n",
            "8\n",
            "7\n",
            "6\n",
            "5\n",
            "4\n",
            "3\n",
            "2\n",
            "1\n"
          ]
        }
      ]
    },
    {
      "cell_type": "code",
      "source": [
        "for i in range(1,101,2):\n",
        "  print(i)"
      ],
      "metadata": {
        "colab": {
          "base_uri": "https://localhost:8080/"
        },
        "id": "GSj4lcknAjW9",
        "outputId": "aed4f2e1-aff8-49e9-f974-7be5dfb8bf0e"
      },
      "execution_count": null,
      "outputs": [
        {
          "output_type": "stream",
          "name": "stdout",
          "text": [
            "1\n",
            "3\n",
            "5\n",
            "7\n",
            "9\n",
            "11\n",
            "13\n",
            "15\n",
            "17\n",
            "19\n",
            "21\n",
            "23\n",
            "25\n",
            "27\n",
            "29\n",
            "31\n",
            "33\n",
            "35\n",
            "37\n",
            "39\n",
            "41\n",
            "43\n",
            "45\n",
            "47\n",
            "49\n",
            "51\n",
            "53\n",
            "55\n",
            "57\n",
            "59\n",
            "61\n",
            "63\n",
            "65\n",
            "67\n",
            "69\n",
            "71\n",
            "73\n",
            "75\n",
            "77\n",
            "79\n",
            "81\n",
            "83\n",
            "85\n",
            "87\n",
            "89\n",
            "91\n",
            "93\n",
            "95\n",
            "97\n",
            "99\n"
          ]
        }
      ]
    },
    {
      "cell_type": "code",
      "source": [
        "num=int(input(\"Enter the value of n\"))\n",
        "if num>1:\n",
        "  for i in range(2, int(num/2)+1,100):\n",
        "    if (num % i)==0:\n",
        "      print(num,\"is not a prime number\")\n",
        "      break\n",
        "    else:\n",
        "        print(\"num is a prime number\")      "
      ],
      "metadata": {
        "colab": {
          "base_uri": "https://localhost:8080/"
        },
        "id": "KHdPZ5fPDiT7",
        "outputId": "26321c53-3294-411f-9181-65005bf13cee"
      },
      "execution_count": null,
      "outputs": [
        {
          "output_type": "stream",
          "name": "stdout",
          "text": [
            "Enter the value of n 13\n",
            "num is a prime number\n"
          ]
        }
      ]
    },
    {
      "cell_type": "code",
      "source": [
        "n = int(input(\"Enter the number of terms: \"))\n",
        "a = 0\n",
        "b = 1\n",
        "if n <= 0:\n",
        "    print(\"Invalid input. Please enter a positive integer.\")\n",
        "elif n == 1:\n",
        "    print(\"Fibonacci series up to\", n, \"term:\")\n",
        "    print(a)\n",
        "else:\n",
        "    print(\"Fibonacci series up to\", n, \"terms:\")\n",
        "    print(a, b, end=' ')\n",
        "    for i in range(2, n):\n",
        "        c = a + b\n",
        "        print(c, end=' ')\n",
        "        a = b\n",
        "        b = c"
      ],
      "metadata": {
        "colab": {
          "base_uri": "https://localhost:8080/"
        },
        "id": "T0u1NdLbGYd_",
        "outputId": "4e02f1fb-ef27-4d7c-8cb7-f2ad64b1b145"
      },
      "execution_count": null,
      "outputs": [
        {
          "output_type": "stream",
          "name": "stdout",
          "text": [
            "Enter the number of terms: 8\n",
            "Fibonacci series up to 8 terms:\n",
            "0 1 1 2 3 5 8 13 "
          ]
        }
      ]
    },
    {
      "cell_type": "code",
      "source": [
        "for i in range(100,151,2):\n",
        "  print(i)"
      ],
      "metadata": {
        "colab": {
          "base_uri": "https://localhost:8080/"
        },
        "id": "Nl7JutgkLpII",
        "outputId": "97ceabeb-8b88-4014-a7e3-03c039a63b0c"
      },
      "execution_count": null,
      "outputs": [
        {
          "output_type": "stream",
          "name": "stdout",
          "text": [
            "100\n",
            "102\n",
            "104\n",
            "106\n",
            "108\n",
            "110\n",
            "112\n",
            "114\n",
            "116\n",
            "118\n",
            "120\n",
            "122\n",
            "124\n",
            "126\n",
            "128\n",
            "130\n",
            "132\n",
            "134\n",
            "136\n",
            "138\n",
            "140\n",
            "142\n",
            "144\n",
            "146\n",
            "148\n",
            "150\n"
          ]
        }
      ]
    },
    {
      "cell_type": "code",
      "source": [
        "for i in range(10,1000,10):\n",
        "  print(i)"
      ],
      "metadata": {
        "colab": {
          "base_uri": "https://localhost:8080/"
        },
        "id": "HuXmM0J2fIIc",
        "outputId": "dec51e8a-db02-4a93-ae01-86f68d445f29"
      },
      "execution_count": null,
      "outputs": [
        {
          "output_type": "stream",
          "name": "stdout",
          "text": [
            "10\n",
            "20\n",
            "30\n",
            "40\n",
            "50\n",
            "60\n",
            "70\n",
            "80\n",
            "90\n",
            "100\n",
            "110\n",
            "120\n",
            "130\n",
            "140\n",
            "150\n",
            "160\n",
            "170\n",
            "180\n",
            "190\n",
            "200\n",
            "210\n",
            "220\n",
            "230\n",
            "240\n",
            "250\n",
            "260\n",
            "270\n",
            "280\n",
            "290\n",
            "300\n",
            "310\n",
            "320\n",
            "330\n",
            "340\n",
            "350\n",
            "360\n",
            "370\n",
            "380\n",
            "390\n",
            "400\n",
            "410\n",
            "420\n",
            "430\n",
            "440\n",
            "450\n",
            "460\n",
            "470\n",
            "480\n",
            "490\n",
            "500\n",
            "510\n",
            "520\n",
            "530\n",
            "540\n",
            "550\n",
            "560\n",
            "570\n",
            "580\n",
            "590\n",
            "600\n",
            "610\n",
            "620\n",
            "630\n",
            "640\n",
            "650\n",
            "660\n",
            "670\n",
            "680\n",
            "690\n",
            "700\n",
            "710\n",
            "720\n",
            "730\n",
            "740\n",
            "750\n",
            "760\n",
            "770\n",
            "780\n",
            "790\n",
            "800\n",
            "810\n",
            "820\n",
            "830\n",
            "840\n",
            "850\n",
            "860\n",
            "870\n",
            "880\n",
            "890\n",
            "900\n",
            "910\n",
            "920\n",
            "930\n",
            "940\n",
            "950\n",
            "960\n",
            "970\n",
            "980\n",
            "990\n"
          ]
        }
      ]
    },
    {
      "cell_type": "code",
      "source": [
        "for i in range(10,1000,467):\n",
        "  print(i)"
      ],
      "metadata": {
        "colab": {
          "base_uri": "https://localhost:8080/"
        },
        "id": "0WBHrgt_ffER",
        "outputId": "d4064b00-5a36-4617-9ee1-6c512b85beee"
      },
      "execution_count": null,
      "outputs": [
        {
          "output_type": "stream",
          "name": "stdout",
          "text": [
            "10\n",
            "477\n",
            "944\n"
          ]
        }
      ]
    },
    {
      "cell_type": "code",
      "source": [
        "#WAP to print Armstrong \n",
        "\n",
        "n = int(input(\"Enter a number: \"))\n",
        "s = 0\n",
        "t = n\n",
        "while t > 0:\n",
        "   digit = t % 10\n",
        "   s += digit ** 3\n",
        "   t //= 10\n",
        "if n == s:\n",
        "   print(n,\"is an Armstrong number\")\n",
        "else:\n",
        "   print(n,\"is not an Armstrong number\")\n",
        "   Output\n",
        "   Enter a number 153\n",
        "153 is an Armstrong number\n"
      ],
      "metadata": {
        "colab": {
          "base_uri": "https://localhost:8080/",
          "height": 130
        },
        "id": "0qwq-cmMimwM",
        "outputId": "e7c36e49-d8fc-4957-b018-9c31a953b7ee"
      },
      "execution_count": null,
      "outputs": [
        {
          "output_type": "error",
          "ename": "SyntaxError",
          "evalue": "ignored",
          "traceback": [
            "\u001b[0;36m  File \u001b[0;32m\"<ipython-input-1-6b5afab2cc3c>\"\u001b[0;36m, line \u001b[0;32m15\u001b[0m\n\u001b[0;31m    Enter a number 153\u001b[0m\n\u001b[0m          ^\u001b[0m\n\u001b[0;31mSyntaxError\u001b[0m\u001b[0;31m:\u001b[0m invalid syntax\n"
          ]
        }
      ]
    },
    {
      "cell_type": "code",
      "source": [
        "x=[1,2,3,4,5,]\n",
        "y=[6,7,8,9,10]\n",
        "for i in x:\n",
        "  for j in y:\n",
        "    print(i,j)"
      ],
      "metadata": {
        "id": "_5F8PdK_mc0_",
        "colab": {
          "base_uri": "https://localhost:8080/"
        },
        "outputId": "acb5d4cf-ff78-43a4-eafb-1c6c1ce679ad"
      },
      "execution_count": null,
      "outputs": [
        {
          "output_type": "stream",
          "name": "stdout",
          "text": [
            "1 6\n",
            "1 7\n",
            "1 8\n",
            "1 9\n",
            "1 10\n",
            "2 6\n",
            "2 7\n",
            "2 8\n",
            "2 9\n",
            "2 10\n",
            "3 6\n",
            "3 7\n",
            "3 8\n",
            "3 9\n",
            "3 10\n",
            "4 6\n",
            "4 7\n",
            "4 8\n",
            "4 9\n",
            "4 10\n",
            "5 6\n",
            "5 7\n",
            "5 8\n",
            "5 9\n",
            "5 10\n"
          ]
        }
      ]
    },
    {
      "cell_type": "code",
      "source": [
        "for i in range(1, 101):\n",
        "    c = 0\n",
        "    for j in range(1, i+1):\n",
        "        if i % j == 0:\n",
        "            c += 1\n",
        "    if c == 2:\n",
        "        print(i)"
      ],
      "metadata": {
        "colab": {
          "base_uri": "https://localhost:8080/"
        },
        "id": "4HJ1OryBAVl_",
        "outputId": "7163a9cf-f642-4296-e6cf-9d4bebf84bf5"
      },
      "execution_count": null,
      "outputs": [
        {
          "output_type": "stream",
          "name": "stdout",
          "text": [
            "2\n",
            "3\n",
            "5\n",
            "7\n",
            "11\n",
            "13\n",
            "17\n",
            "19\n",
            "23\n",
            "29\n",
            "31\n",
            "37\n",
            "41\n",
            "43\n",
            "47\n",
            "53\n",
            "59\n",
            "61\n",
            "67\n",
            "71\n",
            "73\n",
            "79\n",
            "83\n",
            "89\n",
            "97\n"
          ]
        }
      ]
    },
    {
      "cell_type": "code",
      "source": [
        "x=int(input(\"Write the value of x\"))\n",
        "y=int(input(\"Write the value of y\"))\n",
        "pow(x,y)"
      ],
      "metadata": {
        "colab": {
          "base_uri": "https://localhost:8080/"
        },
        "id": "ZtAOmvneBmsj",
        "outputId": "8e77e871-bb84-4ebc-90ce-0c4d38891f78"
      },
      "execution_count": null,
      "outputs": [
        {
          "name": "stdout",
          "output_type": "stream",
          "text": [
            "Write the value of x 2\n",
            "Write the value of y 4\n"
          ]
        },
        {
          "output_type": "execute_result",
          "data": {
            "text/plain": [
              "16"
            ]
          },
          "metadata": {},
          "execution_count": 8
        }
      ]
    },
    {
      "cell_type": "code",
      "source": [
        "P=int(input(\"Enter the amount \"))\n",
        "R=int(input(\"Enter the rate\"))\n",
        "N=int(input(\"Enter the months\"))\n",
        "Ans=(P*R*pow((1+R),N))/(pow(1+R),N)-1\n",
        "X=round(Ans)\n",
        "print(X)"
      ],
      "metadata": {
        "colab": {
          "base_uri": "https://localhost:8080/",
          "height": 287
        },
        "id": "ePoCfMotEVDW",
        "outputId": "89668fd3-c1ed-4ee1-c1bf-a852ceb881c8"
      },
      "execution_count": null,
      "outputs": [
        {
          "name": "stdout",
          "output_type": "stream",
          "text": [
            "Enter the amount  24 \n",
            "Enter the rate 45\n",
            "Enter the months 24\n"
          ]
        },
        {
          "output_type": "error",
          "ename": "TypeError",
          "evalue": "ignored",
          "traceback": [
            "\u001b[0;31m---------------------------------------------------------------------------\u001b[0m",
            "\u001b[0;31mTypeError\u001b[0m                                 Traceback (most recent call last)",
            "\u001b[0;32m<ipython-input-17-7f091df52793>\u001b[0m in \u001b[0;36m<cell line: 4>\u001b[0;34m()\u001b[0m\n\u001b[1;32m      2\u001b[0m \u001b[0mR\u001b[0m\u001b[0;34m=\u001b[0m\u001b[0mint\u001b[0m\u001b[0;34m(\u001b[0m\u001b[0minput\u001b[0m\u001b[0;34m(\u001b[0m\u001b[0;34m\"Enter the rate\"\u001b[0m\u001b[0;34m)\u001b[0m\u001b[0;34m)\u001b[0m\u001b[0;34m\u001b[0m\u001b[0;34m\u001b[0m\u001b[0m\n\u001b[1;32m      3\u001b[0m \u001b[0mN\u001b[0m\u001b[0;34m=\u001b[0m\u001b[0mint\u001b[0m\u001b[0;34m(\u001b[0m\u001b[0minput\u001b[0m\u001b[0;34m(\u001b[0m\u001b[0;34m\"Enter the months\"\u001b[0m\u001b[0;34m)\u001b[0m\u001b[0;34m)\u001b[0m\u001b[0;34m\u001b[0m\u001b[0;34m\u001b[0m\u001b[0m\n\u001b[0;32m----> 4\u001b[0;31m \u001b[0mAns\u001b[0m\u001b[0;34m=\u001b[0m\u001b[0;34m(\u001b[0m\u001b[0mP\u001b[0m\u001b[0;34m*\u001b[0m\u001b[0mR\u001b[0m\u001b[0;34m*\u001b[0m\u001b[0mpow\u001b[0m\u001b[0;34m(\u001b[0m\u001b[0;34m(\u001b[0m\u001b[0;36m1\u001b[0m\u001b[0;34m+\u001b[0m\u001b[0mR\u001b[0m\u001b[0;34m)\u001b[0m\u001b[0;34m,\u001b[0m\u001b[0mN\u001b[0m\u001b[0;34m)\u001b[0m\u001b[0;34m)\u001b[0m\u001b[0;34m/\u001b[0m\u001b[0;34m(\u001b[0m\u001b[0mpow\u001b[0m\u001b[0;34m(\u001b[0m\u001b[0;36m1\u001b[0m\u001b[0;34m+\u001b[0m\u001b[0mR\u001b[0m\u001b[0;34m)\u001b[0m\u001b[0;34m,\u001b[0m\u001b[0mN\u001b[0m\u001b[0;34m)\u001b[0m\u001b[0;34m-\u001b[0m\u001b[0;36m1\u001b[0m\u001b[0;34m\u001b[0m\u001b[0;34m\u001b[0m\u001b[0m\n\u001b[0m\u001b[1;32m      5\u001b[0m \u001b[0mX\u001b[0m\u001b[0;34m=\u001b[0m\u001b[0mround\u001b[0m\u001b[0;34m(\u001b[0m\u001b[0mAns\u001b[0m\u001b[0;34m)\u001b[0m\u001b[0;34m\u001b[0m\u001b[0;34m\u001b[0m\u001b[0m\n\u001b[1;32m      6\u001b[0m \u001b[0mprint\u001b[0m\u001b[0;34m(\u001b[0m\u001b[0mX\u001b[0m\u001b[0;34m)\u001b[0m\u001b[0;34m\u001b[0m\u001b[0;34m\u001b[0m\u001b[0m\n",
            "\u001b[0;31mTypeError\u001b[0m: pow() missing required argument 'exp' (pos 2)"
          ]
        }
      ]
    },
    {
      "cell_type": "code",
      "source": [
        "import math\n",
        "x=math.pi\n",
        "print(x)"
      ],
      "metadata": {
        "colab": {
          "base_uri": "https://localhost:8080/"
        },
        "id": "N3_dDF6iJlt-",
        "outputId": "507a764a-f38e-4841-f383-3bdca4abb2fa"
      },
      "execution_count": null,
      "outputs": [
        {
          "output_type": "stream",
          "name": "stdout",
          "text": [
            "3.141592653589793\n"
          ]
        }
      ]
    },
    {
      "cell_type": "code",
      "source": [
        "cir=2*math.pi*r\n",
        "print(cir)"
      ],
      "metadata": {
        "colab": {
          "base_uri": "https://localhost:8080/"
        },
        "id": "Wah3Hpy-Klgf",
        "outputId": "d8b1567a-86e1-49e0-b2bc-c1db9e82954a"
      },
      "execution_count": null,
      "outputs": [
        {
          "output_type": "stream",
          "name": "stdout",
          "text": [
            "150.79644737231007\n"
          ]
        }
      ]
    },
    {
      "cell_type": "code",
      "source": [
        "import math\n",
        "x=math.sqrt(4)\n",
        "print(x)"
      ],
      "metadata": {
        "colab": {
          "base_uri": "https://localhost:8080/"
        },
        "id": "lZKI00AmMUGP",
        "outputId": "63337fe8-d5e2-4b0a-bc35-58a43dbe1bad"
      },
      "execution_count": null,
      "outputs": [
        {
          "output_type": "stream",
          "name": "stdout",
          "text": [
            "2.0\n"
          ]
        }
      ]
    },
    {
      "cell_type": "code",
      "source": [
        "import math\n",
        "x=math.ceil(4.6)\n",
        "print(x)"
      ],
      "metadata": {
        "colab": {
          "base_uri": "https://localhost:8080/"
        },
        "id": "2JiRaKKWMpn-",
        "outputId": "4114de4f-06f6-4376-9649-bbf61a1e64f3"
      },
      "execution_count": null,
      "outputs": [
        {
          "output_type": "stream",
          "name": "stdout",
          "text": [
            "5\n"
          ]
        }
      ]
    },
    {
      "cell_type": "code",
      "source": [
        "import math\n",
        "x=math.floor(4.87)\n",
        "print(x)"
      ],
      "metadata": {
        "colab": {
          "base_uri": "https://localhost:8080/"
        },
        "id": "Hhz_gyqqNIi-",
        "outputId": "26637705-6527-41a4-bc74-f4ebb722abe6"
      },
      "execution_count": null,
      "outputs": [
        {
          "output_type": "stream",
          "name": "stdout",
          "text": [
            "4\n"
          ]
        }
      ]
    },
    {
      "cell_type": "code",
      "source": [
        "import math\n",
        "x=math.cos(23.4)\n",
        "print(x)"
      ],
      "metadata": {
        "colab": {
          "base_uri": "https://localhost:8080/"
        },
        "id": "0jCR1t_sNN1T",
        "outputId": "0a434735-53cc-4887-837e-fb511b1ada09"
      },
      "execution_count": null,
      "outputs": [
        {
          "output_type": "stream",
          "name": "stdout",
          "text": [
            "-0.16123796432418885\n"
          ]
        }
      ]
    },
    {
      "cell_type": "code",
      "source": [
        "def circle(radius):\n",
        "  return 22/7*radius*radius"
      ],
      "metadata": {
        "id": "o1zDU6IhOBL2"
      },
      "execution_count": null,
      "outputs": []
    },
    {
      "cell_type": "code",
      "source": [
        "circle(10)"
      ],
      "metadata": {
        "colab": {
          "base_uri": "https://localhost:8080/"
        },
        "id": "ZzMiP_ax-GAr",
        "outputId": "42d80b57-3426-48c0-f0a0-db5b24613440"
      },
      "execution_count": null,
      "outputs": [
        {
          "output_type": "execute_result",
          "data": {
            "text/plain": [
              "314.2857142857143"
            ]
          },
          "metadata": {},
          "execution_count": 2
        }
      ]
    },
    {
      "cell_type": "code",
      "source": [
        "circle(-25)"
      ],
      "metadata": {
        "colab": {
          "base_uri": "https://localhost:8080/"
        },
        "id": "TX2uRNgP-JN-",
        "outputId": "99f067ab-d9d7-4093-b0bb-5c482166de98"
      },
      "execution_count": null,
      "outputs": [
        {
          "output_type": "execute_result",
          "data": {
            "text/plain": [
              "1964.2857142857142"
            ]
          },
          "metadata": {},
          "execution_count": 3
        }
      ]
    },
    {
      "cell_type": "code",
      "source": [
        "circle(25.2)"
      ],
      "metadata": {
        "colab": {
          "base_uri": "https://localhost:8080/"
        },
        "id": "EIg7QqWv-dj2",
        "outputId": "c849a64b-d2ff-4d2d-b543-f7413f49902c"
      },
      "execution_count": null,
      "outputs": [
        {
          "output_type": "execute_result",
          "data": {
            "text/plain": [
              "1995.84"
            ]
          },
          "metadata": {},
          "execution_count": 6
        }
      ]
    },
    {
      "cell_type": "code",
      "source": [
        "def square(side):\n",
        "  return side*side"
      ],
      "metadata": {
        "id": "GZf36pLm-oAW"
      },
      "execution_count": null,
      "outputs": []
    },
    {
      "cell_type": "code",
      "source": [
        "square(35)"
      ],
      "metadata": {
        "colab": {
          "base_uri": "https://localhost:8080/"
        },
        "id": "BCh5QLbt_3yk",
        "outputId": "17dbc9a4-44db-4026-f5e8-6082e2ca986d"
      },
      "execution_count": null,
      "outputs": [
        {
          "output_type": "execute_result",
          "data": {
            "text/plain": [
              "1225"
            ]
          },
          "metadata": {},
          "execution_count": 16
        }
      ]
    },
    {
      "cell_type": "code",
      "source": [
        "square(23.9)"
      ],
      "metadata": {
        "colab": {
          "base_uri": "https://localhost:8080/"
        },
        "id": "aOwXX-YSAy84",
        "outputId": "a7ccfede-662a-4f4a-9108-b3f20d238441"
      },
      "execution_count": null,
      "outputs": [
        {
          "output_type": "execute_result",
          "data": {
            "text/plain": [
              "571.2099999999999"
            ]
          },
          "metadata": {},
          "execution_count": 9
        }
      ]
    },
    {
      "cell_type": "code",
      "source": [
        "def rectangle(length,breadth):\n",
        "  return length*breadth"
      ],
      "metadata": {
        "id": "7mQFKUH3Bk94"
      },
      "execution_count": null,
      "outputs": []
    },
    {
      "cell_type": "code",
      "source": [
        "rectangle(4,5)"
      ],
      "metadata": {
        "colab": {
          "base_uri": "https://localhost:8080/"
        },
        "id": "ODML54qRBxPy",
        "outputId": "cb43c351-2997-418c-e49d-4dd32c03b7ce"
      },
      "execution_count": null,
      "outputs": [
        {
          "output_type": "execute_result",
          "data": {
            "text/plain": [
              "20"
            ]
          },
          "metadata": {},
          "execution_count": 18
        }
      ]
    },
    {
      "cell_type": "code",
      "source": [
        "#calculate the profits for diff. sales=100 cost=80 qty.=50\n",
        "#sales=80 cost=100 qty.=50\n",
        "\n",
        "s=int(input(\"Enter the value of sales\"))\n",
        "c=int(input(\"Enter the value of cost\"))\n",
        "q=int(input(\"Enter the value of qty\"))\n",
        "p=(s*q)-(c*q)\n",
        "if p>0:\n",
        "  print(\"profit table\")\n",
        "elif p == 0:\n",
        "    print(\"Equal\")\n",
        "else :\n",
        "  print (\"loss\")"
      ],
      "metadata": {
        "colab": {
          "base_uri": "https://localhost:8080/"
        },
        "id": "1qzSNZdQGApb",
        "outputId": "25578937-f177-4b60-eba1-f77473bcccab"
      },
      "execution_count": null,
      "outputs": [
        {
          "output_type": "stream",
          "name": "stdout",
          "text": [
            "Enter the value of sales100\n",
            "Enter the value of cost80\n",
            "Enter the value of qty50\n",
            "profit table\n"
          ]
        }
      ]
    },
    {
      "cell_type": "code",
      "source": [
        "circle = lambda x:22/7*x*x"
      ],
      "metadata": {
        "id": "WptdOol9NlRc"
      },
      "execution_count": null,
      "outputs": []
    },
    {
      "cell_type": "code",
      "source": [
        "circle(10) "
      ],
      "metadata": {
        "colab": {
          "base_uri": "https://localhost:8080/"
        },
        "id": "Fuzm0_ctJhQj",
        "outputId": "76484262-c9c9-4003-848a-819626fccdb4"
      },
      "execution_count": null,
      "outputs": [
        {
          "output_type": "execute_result",
          "data": {
            "text/plain": [
              "314.2857142857143"
            ]
          },
          "metadata": {},
          "execution_count": 47
        }
      ]
    },
    {
      "cell_type": "code",
      "source": [
        "square = lambda x:x*x"
      ],
      "metadata": {
        "id": "sct6tC0XNQxV"
      },
      "execution_count": null,
      "outputs": []
    },
    {
      "cell_type": "code",
      "source": [
        "square(5)"
      ],
      "metadata": {
        "colab": {
          "base_uri": "https://localhost:8080/"
        },
        "id": "tAurXwYxOMwn",
        "outputId": "2e31189e-1e80-4082-96fb-247ca20ce3e9"
      },
      "execution_count": null,
      "outputs": [
        {
          "output_type": "execute_result",
          "data": {
            "text/plain": [
              "25"
            ]
          },
          "metadata": {},
          "execution_count": 49
        }
      ]
    },
    {
      "cell_type": "code",
      "source": [
        "rectangle = lambda a,b:a*b"
      ],
      "metadata": {
        "id": "KT7TMETJOQB5"
      },
      "execution_count": null,
      "outputs": []
    },
    {
      "cell_type": "code",
      "source": [
        "rectangle(13,4)"
      ],
      "metadata": {
        "colab": {
          "base_uri": "https://localhost:8080/"
        },
        "id": "xip7gnv1Obmp",
        "outputId": "02016d30-e313-4d7a-e27f-366c527c0a01"
      },
      "execution_count": null,
      "outputs": [
        {
          "output_type": "execute_result",
          "data": {
            "text/plain": [
              "52"
            ]
          },
          "metadata": {},
          "execution_count": 51
        }
      ]
    },
    {
      "cell_type": "code",
      "source": [
        "profit = lambda s,q,c:(s*q)-(c-q)"
      ],
      "metadata": {
        "id": "34TecV-rOeMV"
      },
      "execution_count": null,
      "outputs": []
    },
    {
      "cell_type": "code",
      "source": [
        "profit(13,24,24)"
      ],
      "metadata": {
        "colab": {
          "base_uri": "https://localhost:8080/"
        },
        "id": "8-VIqgquO2Np",
        "outputId": "bc50be9a-0388-4a46-c96f-ef08385514a7"
      },
      "execution_count": null,
      "outputs": [
        {
          "output_type": "execute_result",
          "data": {
            "text/plain": [
              "312"
            ]
          },
          "metadata": {},
          "execution_count": 54
        }
      ]
    },
    {
      "cell_type": "code",
      "source": [
        "text = \"This is Python Traning for RIT students\""
      ],
      "metadata": {
        "id": "J5Y54gNLO_fd"
      },
      "execution_count": null,
      "outputs": []
    },
    {
      "cell_type": "code",
      "source": [
        "tex = lambda x:x.lower()"
      ],
      "metadata": {
        "id": "H2dhcmJ4Ppa0"
      },
      "execution_count": null,
      "outputs": []
    },
    {
      "cell_type": "code",
      "source": [
        "tex(text)"
      ],
      "metadata": {
        "colab": {
          "base_uri": "https://localhost:8080/",
          "height": 36
        },
        "id": "_AgyX5Y3Pzmb",
        "outputId": "0fa38a5f-3b4f-4bb9-c389-65a221bff985"
      },
      "execution_count": null,
      "outputs": [
        {
          "output_type": "execute_result",
          "data": {
            "text/plain": [
              "'this is python traning for rit students'"
            ],
            "application/vnd.google.colaboratory.intrinsic+json": {
              "type": "string"
            }
          },
          "metadata": {},
          "execution_count": 57
        }
      ]
    },
    {
      "cell_type": "code",
      "source": [
        "tex = lambda x:x.upper()"
      ],
      "metadata": {
        "id": "R0OQC_7FP2Ln"
      },
      "execution_count": null,
      "outputs": []
    },
    {
      "cell_type": "code",
      "source": [
        "tex(text)"
      ],
      "metadata": {
        "colab": {
          "base_uri": "https://localhost:8080/",
          "height": 36
        },
        "id": "hHEau5lWQNe3",
        "outputId": "6787a074-b8ab-419e-c4c4-ab8088fae7b7"
      },
      "execution_count": null,
      "outputs": [
        {
          "output_type": "execute_result",
          "data": {
            "text/plain": [
              "'THIS IS PYTHON TRANING FOR RIT STUDENTS'"
            ],
            "application/vnd.google.colaboratory.intrinsic+json": {
              "type": "string"
            }
          },
          "metadata": {},
          "execution_count": 59
        }
      ]
    },
    {
      "cell_type": "code",
      "source": [
        "def myfunction (a,b):\n",
        "  return(a+b),(a-b),(a*b),(a/b)\n",
        "  a=int(input(\"Enter the value of a\"))\n",
        "  b=int(input(\"Enter the value of b\"))\n",
        "  print(myfunction(a,b))"
      ],
      "metadata": {
        "id": "-F8yAVOTQZWL"
      },
      "execution_count": null,
      "outputs": []
    },
    {
      "cell_type": "code",
      "source": [
        "myfunction(23,34)"
      ],
      "metadata": {
        "colab": {
          "base_uri": "https://localhost:8080/"
        },
        "id": "z-tCHhwfUoWd",
        "outputId": "31aa8174-9d03-48c0-c7b6-376eaf620d60"
      },
      "execution_count": null,
      "outputs": [
        {
          "output_type": "execute_result",
          "data": {
            "text/plain": [
              "(57, -11, 782, 0.6764705882352942)"
            ]
          },
          "metadata": {},
          "execution_count": 70
        }
      ]
    },
    {
      "cell_type": "code",
      "source": [
        "def my_function():\n",
        "  print(\"Hello from a function\")\n"
      ],
      "metadata": {
        "id": "VPVPKAXxVHCN",
        "colab": {
          "base_uri": "https://localhost:8080/"
        },
        "outputId": "97f8dd48-5dbd-44d2-98ae-fd56ca2343ac"
      },
      "execution_count": null,
      "outputs": [
        {
          "output_type": "stream",
          "name": "stdout",
          "text": [
            "Hello from a function\n"
          ]
        }
      ]
    },
    {
      "cell_type": "code",
      "source": [
        "my_function()"
      ],
      "metadata": {
        "colab": {
          "base_uri": "https://localhost:8080/"
        },
        "id": "GNlBq-mfxgVE",
        "outputId": "44d74b7b-3ecf-4edb-8d1d-2d6d17129ff3"
      },
      "execution_count": null,
      "outputs": [
        {
          "output_type": "stream",
          "name": "stdout",
          "text": [
            "Hello from a function\n"
          ]
        }
      ]
    },
    {
      "cell_type": "code",
      "source": [
        "# List\n",
        "# list are ordered \n",
        "# Dublicate allowed\n",
        "# Different data type allowed \n",
        "# Changeable\n",
        "# List are inordered"
      ],
      "metadata": {
        "id": "qIiWE3HuxqGl"
      },
      "execution_count": null,
      "outputs": []
    },
    {
      "cell_type": "code",
      "source": [
        "c=(1,2,5767,4,4,4,True)\n",
        "print(c)"
      ],
      "metadata": {
        "colab": {
          "base_uri": "https://localhost:8080/"
        },
        "id": "jqbJL6LzFYxt",
        "outputId": "157620bd-be95-4b78-9712-391ec735be97"
      },
      "execution_count": null,
      "outputs": [
        {
          "output_type": "stream",
          "name": "stdout",
          "text": [
            "(1, 2, 5767, 4, 4, 4, True)\n"
          ]
        }
      ]
    },
    {
      "cell_type": "code",
      "source": [
        "x=[1,2,3,4,5,6,7,8]\n",
        "print(x[2:5:2])"
      ],
      "metadata": {
        "colab": {
          "base_uri": "https://localhost:8080/"
        },
        "id": "ZkguEvWyG0iH",
        "outputId": "6933155d-0283-41d9-a2c7-a8f9758ee5ac"
      },
      "execution_count": null,
      "outputs": [
        {
          "output_type": "stream",
          "name": "stdout",
          "text": [
            "[3, 5]\n"
          ]
        }
      ]
    },
    {
      "cell_type": "code",
      "source": [
        "x=[1,2,3,4,5,6,7,8]\n",
        "print(x[::2])"
      ],
      "metadata": {
        "colab": {
          "base_uri": "https://localhost:8080/"
        },
        "id": "vMcj1TGBHw4f",
        "outputId": "05e902e5-1d4c-4d23-de44-b1a9f5d127ea"
      },
      "execution_count": null,
      "outputs": [
        {
          "output_type": "stream",
          "name": "stdout",
          "text": [
            "[1, 3, 5, 7]\n"
          ]
        }
      ]
    },
    {
      "cell_type": "code",
      "source": [
        "x=[1,2,3,4,5,6,7]\n",
        "y=[8,9,10,11.76]\n",
        "x.extend(y)\n",
        "print(x)"
      ],
      "metadata": {
        "colab": {
          "base_uri": "https://localhost:8080/"
        },
        "id": "Z48lplFRJz-y",
        "outputId": "e5e2780c-94a2-4dc5-da44-e0838e802e4a"
      },
      "execution_count": null,
      "outputs": [
        {
          "output_type": "stream",
          "name": "stdout",
          "text": [
            "[1, 2, 3, 4, 5, 6, 7, 8, 9, 10, 11.76]\n"
          ]
        }
      ]
    },
    {
      "cell_type": "code",
      "source": [
        "x1=[2,3,4,5,]\n",
        "y2=5\n",
        "x1.append(y2)\n",
        "print(x1)"
      ],
      "metadata": {
        "colab": {
          "base_uri": "https://localhost:8080/"
        },
        "id": "fpSAGeqcJ8lR",
        "outputId": "fcb40707-69fa-4216-cd43-6459717802cd"
      },
      "execution_count": null,
      "outputs": [
        {
          "output_type": "stream",
          "name": "stdout",
          "text": [
            "[2, 3, 4, 5, 5]\n"
          ]
        }
      ]
    },
    {
      "cell_type": "code",
      "source": [
        "x1=[2,3,4,5,]\n",
        "y2=\"Watermelon\"\n",
        "x1.append(y2)\n",
        "print(x1)"
      ],
      "metadata": {
        "colab": {
          "base_uri": "https://localhost:8080/"
        },
        "id": "hsHW4dWuLGZj",
        "outputId": "cc876835-a3ab-4d1d-e9d0-053859f3b46c"
      },
      "execution_count": null,
      "outputs": [
        {
          "output_type": "stream",
          "name": "stdout",
          "text": [
            "[2, 3, 4, 5, 'Watermelon']\n"
          ]
        }
      ]
    },
    {
      "cell_type": "code",
      "source": [
        "z1=[1,2,3,4,5,6,5]\n",
        "z1.remove(5)\n",
        "print(z1)"
      ],
      "metadata": {
        "colab": {
          "base_uri": "https://localhost:8080/"
        },
        "id": "rWt4Bb01LjGQ",
        "outputId": "bdc41596-c3a1-4181-d122-102ee7e000e7"
      },
      "execution_count": null,
      "outputs": [
        {
          "output_type": "stream",
          "name": "stdout",
          "text": [
            "[1, 2, 3, 4, 6, 5]\n"
          ]
        }
      ]
    },
    {
      "cell_type": "code",
      "source": [
        "z2=[1,1,2,3,4,5,6,6]\n",
        "z2.pop(2)\n",
        "print(z2)"
      ],
      "metadata": {
        "colab": {
          "base_uri": "https://localhost:8080/"
        },
        "id": "SyuFnFIoLrec",
        "outputId": "3f7e26fa-dd8b-48ac-a497-00fcd0d589cb"
      },
      "execution_count": null,
      "outputs": [
        {
          "output_type": "stream",
          "name": "stdout",
          "text": [
            "[1, 1, 3, 4, 5, 6, 6]\n"
          ]
        }
      ]
    },
    {
      "cell_type": "code",
      "source": [
        "z2=[1,1,2,3,4,5,6,6]\n",
        "z2.pop()\n",
        "print(z2)"
      ],
      "metadata": {
        "colab": {
          "base_uri": "https://localhost:8080/"
        },
        "id": "n_3bYta4MW6L",
        "outputId": "21623207-71ed-4c76-ebb8-a3203fe242b3"
      },
      "execution_count": null,
      "outputs": [
        {
          "output_type": "stream",
          "name": "stdout",
          "text": [
            "[1, 1, 2, 3, 4, 5, 6]\n"
          ]
        }
      ]
    },
    {
      "cell_type": "code",
      "source": [
        "x=[1,2,3,4,5,6]\n",
        "x.insert(4,9)\n",
        "print(x)"
      ],
      "metadata": {
        "colab": {
          "base_uri": "https://localhost:8080/"
        },
        "id": "iBjKrGrpM9j9",
        "outputId": "5b834a6c-7e4e-441b-c783-9d76b70e23ed"
      },
      "execution_count": null,
      "outputs": [
        {
          "output_type": "stream",
          "name": "stdout",
          "text": [
            "[1, 2, 3, 4, 9, 5, 6]\n"
          ]
        }
      ]
    },
    {
      "cell_type": "code",
      "source": [
        "#insert\n",
        "x=[1,2,3,4,5,6]\n",
        "print(len(x))"
      ],
      "metadata": {
        "colab": {
          "base_uri": "https://localhost:8080/"
        },
        "id": "-FU6AUMfNUp0",
        "outputId": "05b46e22-bae8-4c1e-e121-4c5ad4c401cd"
      },
      "execution_count": null,
      "outputs": [
        {
          "output_type": "stream",
          "name": "stdout",
          "text": [
            "6\n"
          ]
        }
      ]
    },
    {
      "cell_type": "code",
      "source": [
        "#ascending order \n",
        "x=[1,24,456,78,2,3,4,5,6]\n",
        "x.sort()\n",
        "print(x)"
      ],
      "metadata": {
        "colab": {
          "base_uri": "https://localhost:8080/"
        },
        "id": "F__6QC95Opei",
        "outputId": "d3439d09-f222-4f7c-e634-26e7734dfe7b"
      },
      "execution_count": null,
      "outputs": [
        {
          "output_type": "stream",
          "name": "stdout",
          "text": [
            "[1, 2, 3, 4, 5, 6, 24, 78, 456]\n"
          ]
        }
      ]
    },
    {
      "cell_type": "code",
      "source": [
        "#descending order \n",
        "x.sort(reverse=True)\n",
        "print(x)"
      ],
      "metadata": {
        "colab": {
          "base_uri": "https://localhost:8080/"
        },
        "id": "-tHaUYflO5cF",
        "outputId": "4ba8f7ff-f3aa-4642-d68a-dcaa17955e9c"
      },
      "execution_count": null,
      "outputs": [
        {
          "output_type": "stream",
          "name": "stdout",
          "text": [
            "[456, 78, 24, 6, 5, 4, 3, 2, 1]\n"
          ]
        }
      ]
    },
    {
      "cell_type": "code",
      "source": [
        "# Tuple\n",
        "# Tuple are orderd\n",
        "# Dublicate allowed\n",
        "# Different data type are allowed \n",
        "# But tuple are unchangeable\n",
        "# Index $ slicing follow\n",
        " \n",
        " "
      ],
      "metadata": {
        "id": "1sBHTjMoPCJK"
      },
      "execution_count": null,
      "outputs": []
    },
    {
      "cell_type": "code",
      "source": [
        "x=(1,2,3,4,5,6,7,8)\n",
        "x.sort()\n",
        "print(x)"
      ],
      "metadata": {
        "colab": {
          "base_uri": "https://localhost:8080/",
          "height": 201
        },
        "id": "5oPl0VTLRX-Z",
        "outputId": "ea2ef803-cdd9-47cf-dbfa-e1863fa57e1e"
      },
      "execution_count": null,
      "outputs": [
        {
          "output_type": "error",
          "ename": "AttributeError",
          "evalue": "ignored",
          "traceback": [
            "\u001b[0;31m---------------------------------------------------------------------------\u001b[0m",
            "\u001b[0;31mAttributeError\u001b[0m                            Traceback (most recent call last)",
            "\u001b[0;32m<ipython-input-54-1c21b0cca85e>\u001b[0m in \u001b[0;36m<cell line: 2>\u001b[0;34m()\u001b[0m\n\u001b[1;32m      1\u001b[0m \u001b[0mx\u001b[0m\u001b[0;34m=\u001b[0m\u001b[0;34m(\u001b[0m\u001b[0;36m1\u001b[0m\u001b[0;34m,\u001b[0m\u001b[0;36m2\u001b[0m\u001b[0;34m,\u001b[0m\u001b[0;36m3\u001b[0m\u001b[0;34m,\u001b[0m\u001b[0;36m4\u001b[0m\u001b[0;34m,\u001b[0m\u001b[0;36m5\u001b[0m\u001b[0;34m,\u001b[0m\u001b[0;36m6\u001b[0m\u001b[0;34m,\u001b[0m\u001b[0;36m7\u001b[0m\u001b[0;34m,\u001b[0m\u001b[0;36m8\u001b[0m\u001b[0;34m)\u001b[0m\u001b[0;34m\u001b[0m\u001b[0;34m\u001b[0m\u001b[0m\n\u001b[0;32m----> 2\u001b[0;31m \u001b[0mx\u001b[0m\u001b[0;34m.\u001b[0m\u001b[0msort\u001b[0m\u001b[0;34m(\u001b[0m\u001b[0;34m)\u001b[0m\u001b[0;34m\u001b[0m\u001b[0;34m\u001b[0m\u001b[0m\n\u001b[0m\u001b[1;32m      3\u001b[0m \u001b[0mprint\u001b[0m\u001b[0;34m(\u001b[0m\u001b[0mx\u001b[0m\u001b[0;34m)\u001b[0m\u001b[0;34m\u001b[0m\u001b[0;34m\u001b[0m\u001b[0m\n",
            "\u001b[0;31mAttributeError\u001b[0m: 'tuple' object has no attribute 'sort'"
          ]
        }
      ]
    },
    {
      "cell_type": "code",
      "source": [
        "x=(1,2,3,4,5,6,7)\n",
        "y=(8,9,10,11.76)\n",
        "x.extend(y)\n",
        "print(x)"
      ],
      "metadata": {
        "colab": {
          "base_uri": "https://localhost:8080/",
          "height": 218
        },
        "id": "bxvUymNqReXh",
        "outputId": "2f5704db-52f7-4b9b-8a2b-421844bc6509"
      },
      "execution_count": null,
      "outputs": [
        {
          "output_type": "error",
          "ename": "AttributeError",
          "evalue": "ignored",
          "traceback": [
            "\u001b[0;31m---------------------------------------------------------------------------\u001b[0m",
            "\u001b[0;31mAttributeError\u001b[0m                            Traceback (most recent call last)",
            "\u001b[0;32m<ipython-input-55-d473d5028df3>\u001b[0m in \u001b[0;36m<cell line: 3>\u001b[0;34m()\u001b[0m\n\u001b[1;32m      1\u001b[0m \u001b[0mx\u001b[0m\u001b[0;34m=\u001b[0m\u001b[0;34m(\u001b[0m\u001b[0;36m1\u001b[0m\u001b[0;34m,\u001b[0m\u001b[0;36m2\u001b[0m\u001b[0;34m,\u001b[0m\u001b[0;36m3\u001b[0m\u001b[0;34m,\u001b[0m\u001b[0;36m4\u001b[0m\u001b[0;34m,\u001b[0m\u001b[0;36m5\u001b[0m\u001b[0;34m,\u001b[0m\u001b[0;36m6\u001b[0m\u001b[0;34m,\u001b[0m\u001b[0;36m7\u001b[0m\u001b[0;34m)\u001b[0m\u001b[0;34m\u001b[0m\u001b[0;34m\u001b[0m\u001b[0m\n\u001b[1;32m      2\u001b[0m \u001b[0my\u001b[0m\u001b[0;34m=\u001b[0m\u001b[0;34m(\u001b[0m\u001b[0;36m8\u001b[0m\u001b[0;34m,\u001b[0m\u001b[0;36m9\u001b[0m\u001b[0;34m,\u001b[0m\u001b[0;36m10\u001b[0m\u001b[0;34m,\u001b[0m\u001b[0;36m11.76\u001b[0m\u001b[0;34m)\u001b[0m\u001b[0;34m\u001b[0m\u001b[0;34m\u001b[0m\u001b[0m\n\u001b[0;32m----> 3\u001b[0;31m \u001b[0mx\u001b[0m\u001b[0;34m.\u001b[0m\u001b[0mextend\u001b[0m\u001b[0;34m(\u001b[0m\u001b[0my\u001b[0m\u001b[0;34m)\u001b[0m\u001b[0;34m\u001b[0m\u001b[0;34m\u001b[0m\u001b[0m\n\u001b[0m\u001b[1;32m      4\u001b[0m \u001b[0mprint\u001b[0m\u001b[0;34m(\u001b[0m\u001b[0mx\u001b[0m\u001b[0;34m)\u001b[0m\u001b[0;34m\u001b[0m\u001b[0;34m\u001b[0m\u001b[0m\n",
            "\u001b[0;31mAttributeError\u001b[0m: 'tuple' object has no attribute 'extend'"
          ]
        }
      ]
    },
    {
      "cell_type": "code",
      "source": [
        "z1=(1,2,3,4,5,6,5)\n",
        "z1.remove(5)\n",
        "print(z1)"
      ],
      "metadata": {
        "colab": {
          "base_uri": "https://localhost:8080/",
          "height": 201
        },
        "id": "dx3eicZ0RupF",
        "outputId": "e2ce6f9a-8916-4334-9220-942f21cd17b5"
      },
      "execution_count": null,
      "outputs": [
        {
          "output_type": "error",
          "ename": "AttributeError",
          "evalue": "ignored",
          "traceback": [
            "\u001b[0;31m---------------------------------------------------------------------------\u001b[0m",
            "\u001b[0;31mAttributeError\u001b[0m                            Traceback (most recent call last)",
            "\u001b[0;32m<ipython-input-56-13fd38a004dd>\u001b[0m in \u001b[0;36m<cell line: 2>\u001b[0;34m()\u001b[0m\n\u001b[1;32m      1\u001b[0m \u001b[0mz1\u001b[0m\u001b[0;34m=\u001b[0m\u001b[0;34m(\u001b[0m\u001b[0;36m1\u001b[0m\u001b[0;34m,\u001b[0m\u001b[0;36m2\u001b[0m\u001b[0;34m,\u001b[0m\u001b[0;36m3\u001b[0m\u001b[0;34m,\u001b[0m\u001b[0;36m4\u001b[0m\u001b[0;34m,\u001b[0m\u001b[0;36m5\u001b[0m\u001b[0;34m,\u001b[0m\u001b[0;36m6\u001b[0m\u001b[0;34m,\u001b[0m\u001b[0;36m5\u001b[0m\u001b[0;34m)\u001b[0m\u001b[0;34m\u001b[0m\u001b[0;34m\u001b[0m\u001b[0m\n\u001b[0;32m----> 2\u001b[0;31m \u001b[0mz1\u001b[0m\u001b[0;34m.\u001b[0m\u001b[0mremove\u001b[0m\u001b[0;34m(\u001b[0m\u001b[0;36m5\u001b[0m\u001b[0;34m)\u001b[0m\u001b[0;34m\u001b[0m\u001b[0;34m\u001b[0m\u001b[0m\n\u001b[0m\u001b[1;32m      3\u001b[0m \u001b[0mprint\u001b[0m\u001b[0;34m(\u001b[0m\u001b[0mz1\u001b[0m\u001b[0;34m)\u001b[0m\u001b[0;34m\u001b[0m\u001b[0;34m\u001b[0m\u001b[0m\n",
            "\u001b[0;31mAttributeError\u001b[0m: 'tuple' object has no attribute 'remove'"
          ]
        }
      ]
    },
    {
      "cell_type": "code",
      "source": [
        "# Type casting or type conversation\n",
        "\n",
        "a=3\n",
        "b=float(a)\n",
        "print(type(b))\n"
      ],
      "metadata": {
        "colab": {
          "base_uri": "https://localhost:8080/"
        },
        "id": "8arps_H1SFhx",
        "outputId": "a9d4a290-d8d7-40a3-991d-fb55bb42b7db"
      },
      "execution_count": null,
      "outputs": [
        {
          "output_type": "stream",
          "name": "stdout",
          "text": [
            "<class 'float'>\n"
          ]
        }
      ]
    },
    {
      "cell_type": "code",
      "source": [
        "a=3\n",
        "b=int(234)\n",
        "print(type(b))\n"
      ],
      "metadata": {
        "colab": {
          "base_uri": "https://localhost:8080/"
        },
        "id": "lKXOeAJoSgqO",
        "outputId": "7593a143-944c-4613-e7c7-ad1d2d9701f0"
      },
      "execution_count": null,
      "outputs": [
        {
          "output_type": "stream",
          "name": "stdout",
          "text": [
            "<class 'int'>\n"
          ]
        }
      ]
    },
    {
      "cell_type": "code",
      "source": [
        "a=3\n",
        "b=str(\"a\")\n",
        "print(type(b))\n"
      ],
      "metadata": {
        "colab": {
          "base_uri": "https://localhost:8080/"
        },
        "id": "44GuCMSbSsUw",
        "outputId": "fb124f9b-9249-413f-b225-b00104a0f20c"
      },
      "execution_count": null,
      "outputs": [
        {
          "output_type": "stream",
          "name": "stdout",
          "text": [
            "<class 'str'>\n"
          ]
        }
      ]
    },
    {
      "cell_type": "code",
      "source": [
        "x=(1,2,3,4,5)\n",
        "y=(6,7,8,9,10)\n",
        "c=x+y\n",
        "print(c)"
      ],
      "metadata": {
        "colab": {
          "base_uri": "https://localhost:8080/"
        },
        "id": "JxH3iVtRTQCa",
        "outputId": "21129d45-41aa-4a95-92ab-946d8e8aaf65"
      },
      "execution_count": null,
      "outputs": [
        {
          "output_type": "stream",
          "name": "stdout",
          "text": [
            "(1, 2, 3, 4, 5, 6, 7, 8, 9, 10)\n"
          ]
        }
      ]
    },
    {
      "cell_type": "code",
      "source": [
        "print(list(c))"
      ],
      "metadata": {
        "colab": {
          "base_uri": "https://localhost:8080/"
        },
        "id": "2b4Vl09jUoO0",
        "outputId": "caf4848b-eafa-40bc-9f19-e3d2402e11c7"
      },
      "execution_count": null,
      "outputs": [
        {
          "output_type": "stream",
          "name": "stdout",
          "text": [
            "[1, 2, 3, 4, 5, 6, 7, 8, 9, 10]\n"
          ]
        }
      ]
    },
    {
      "cell_type": "code",
      "source": [
        "print(tuple(c))"
      ],
      "metadata": {
        "colab": {
          "base_uri": "https://localhost:8080/"
        },
        "id": "7ghOaJXsUsIH",
        "outputId": "f0f5dc60-d27c-4199-86d9-fc2faae600ae"
      },
      "execution_count": null,
      "outputs": [
        {
          "output_type": "stream",
          "name": "stdout",
          "text": [
            "(1, 2, 3, 4, 5, 6, 7, 8, 9, 10)\n"
          ]
        }
      ]
    },
    {
      "cell_type": "code",
      "source": [
        "# set {1,2,3,4,5}\n",
        "\n",
        "# 1. Set are unindexed\n",
        "# 2. Dublicted not allowed \n",
        "# 3. Unchangable\n",
        "# 4. Unordered \n",
        "\n",
        "# dict{}\n",
        "# 1. Ordered\n",
        "# 2. Dublicate not allowed\n",
        "# 3. Changable\n",
        "\n",
        "\n",
        "\n",
        "# dict   {\"Brand\":\"Maruti\"}   key & Value pair\n",
        "# 1. Ordered \n",
        "# 2. Dublicate not allowed\n",
        "# 3. Changeable \n",
        "# len(): to check the length the set \n",
        "\n",
        "s={1,2,3,4,5}\n",
        "print(len(s))\n",
        "\n",
        "# ho wto add elements in the set\n",
        "# add()\n",
        "s1={1,2,3,4,5}\n",
        "s1.add(\"orange\")\n",
        "print(s1)\n",
        "\n",
        "#update()\n",
        "s3={1,2,3,4,5}\n",
        "s4={6,7,7,8,8}\n",
        "s3.update(s3)\n",
        "print(s3)\n",
        "\n",
        "#union()\n",
        "s5={1,2,3,4}\n",
        "s6={5,6,7,8,}\n",
        "s7=s5.union(s6)\n",
        "print(s7)\n",
        "\n",
        "#the set constructor\n",
        "t1=(1,2,3,4,5)\n",
        "t1=set((1,2,3,4,5))\n",
        "print(t1)\n",
        "\n",
        "# access the elements from the set \n",
        "s9={1,2,3,4,5,6,7}\n",
        "for i in s9:\n",
        "  print(s9)\n",
        "\n",
        "# A dictionary is an object that stores a collection of data \n",
        "# Eacg elements in the dict has two parts a key and a value.\\\n",
        "# We use key to locate the specific value\n",
        "# More than one entery per key is not allowed   "
      ],
      "metadata": {
        "colab": {
          "base_uri": "https://localhost:8080/"
        },
        "id": "ni_hX575WOuF",
        "outputId": "8be4b14f-6ff6-418a-c75d-4df54650bb41"
      },
      "execution_count": null,
      "outputs": [
        {
          "output_type": "stream",
          "name": "stdout",
          "text": [
            "5\n",
            "{1, 2, 3, 4, 5, 'orange'}\n",
            "{1, 2, 3, 4, 5}\n",
            "{1, 2, 3, 4, 5, 6, 7, 8}\n",
            "{1, 2, 3, 4, 5}\n"
          ]
        }
      ]
    },
    {
      "cell_type": "code",
      "source": [
        "phonebook={\"Nirdesh\":\"9627139345\",\"Sonu\":\"8535013934\",\"Sharma\":\"9358420723\",\"Bhardwaj\":\"9105763934\"}\n",
        "print(phonebook[\"Sonu\"])"
      ],
      "metadata": {
        "colab": {
          "base_uri": "https://localhost:8080/"
        },
        "id": "JRmA9z6ajhFh",
        "outputId": "be0293f9-a12f-4603-82bc-64309019da95"
      },
      "execution_count": null,
      "outputs": [
        {
          "output_type": "stream",
          "name": "stdout",
          "text": [
            "8535013934\n"
          ]
        }
      ]
    },
    {
      "cell_type": "code",
      "source": [
        "# Adding Elements to the dictionary\n",
        "phonebook[\"Kartik\"]=\"324564549697\"\n",
        "print(phonebook)"
      ],
      "metadata": {
        "colab": {
          "base_uri": "https://localhost:8080/"
        },
        "id": "hu273qp5mnFe",
        "outputId": "dbd1700d-36a8-4e65-905c-e3e81a6d9ba5"
      },
      "execution_count": null,
      "outputs": [
        {
          "output_type": "stream",
          "name": "stdout",
          "text": [
            "{'Nirdesh': '9627139345', 'Sonu': '8535013934', 'Sharma': '9358420723', 'Bhardwaj': '9105763934', 'Kartik': '324564549697'}\n"
          ]
        }
      ]
    },
    {
      "cell_type": "code",
      "source": [
        "print(phonebook[\"Kartik\"])"
      ],
      "metadata": {
        "colab": {
          "base_uri": "https://localhost:8080/"
        },
        "id": "10wXYokyopdT",
        "outputId": "08ef437e-3462-4d66-fee9-4375399ba767"
      },
      "execution_count": null,
      "outputs": [
        {
          "output_type": "stream",
          "name": "stdout",
          "text": [
            "324564549697\n"
          ]
        }
      ]
    },
    {
      "cell_type": "code",
      "source": [
        "# Changing element of the dictionary\n",
        "phonebook[\"Sharma\"]=\"9876543210\"\n",
        "print(phonebook)"
      ],
      "metadata": {
        "colab": {
          "base_uri": "https://localhost:8080/"
        },
        "id": "4cyjaRY0ovHr",
        "outputId": "d6c0c7ef-1481-43ae-fb84-973206146a61"
      },
      "execution_count": null,
      "outputs": [
        {
          "output_type": "stream",
          "name": "stdout",
          "text": [
            "{'Nirdesh': '9627139345', 'Sonu': '8535013934', 'Sharma': '9876543210', 'Bhardwaj': '9105763934', 'Kartik': '324564549697'}\n"
          ]
        }
      ]
    },
    {
      "cell_type": "code",
      "source": [
        "# Deleting the element from the dictionary\n",
        "del phonebook[\"Kartik\"]\n",
        "print(phonebook)"
      ],
      "metadata": {
        "colab": {
          "base_uri": "https://localhost:8080/"
        },
        "id": "4v23nIDdpKWi",
        "outputId": "371ca485-9150-4888-82bc-2bf674b65c5a"
      },
      "execution_count": null,
      "outputs": [
        {
          "output_type": "stream",
          "name": "stdout",
          "text": [
            "{'Nirdesh': '9627139345', 'Sonu': '8535013934', 'Sharma': '9876543210', 'Bhardwaj': '9105763934'}\n"
          ]
        }
      ]
    },
    {
      "cell_type": "code",
      "source": [
        "# Printing Dictionary using loop\n",
        "phonebook={\"Nirdesh\":\"9627139345\",\"Sharma\":\"8535013934\"}\n",
        "n=len(phonebook)\n",
        "print(n)\n",
        "for i in phonebook:\n",
        "  print(i)\n",
        "  print(phonebook[i])\n",
        "\n",
        "# Creating an empty dictionary\n",
        "Dict={}\n",
        "print(Dict) "
      ],
      "metadata": {
        "colab": {
          "base_uri": "https://localhost:8080/"
        },
        "id": "CzNfk3eTp6U_",
        "outputId": "f8f9763f-aa48-4fc0-aa98-f2d8450902b8"
      },
      "execution_count": null,
      "outputs": [
        {
          "output_type": "stream",
          "name": "stdout",
          "text": [
            "2\n",
            "Nirdesh\n",
            "9627139345\n",
            "Sharma\n",
            "8535013934\n",
            "{}\n"
          ]
        }
      ]
    },
    {
      "cell_type": "code",
      "source": [
        "# Creating a dictionary with integer keys\n",
        "Dicts={1:\"How\",2:\"Are\",3:\"you\"}\n",
        "print(Dicts)"
      ],
      "metadata": {
        "colab": {
          "base_uri": "https://localhost:8080/"
        },
        "id": "lfuySkfgrgCw",
        "outputId": "a2d5c23c-cd37-4ffd-bba3-1285b3c9e489"
      },
      "execution_count": null,
      "outputs": [
        {
          "output_type": "stream",
          "name": "stdout",
          "text": [
            "{1: 'How', 2: 'Are', 3: 'you'}\n"
          ]
        }
      ]
    },
    {
      "cell_type": "code",
      "source": [
        "# Clear method deletes all the elements in the dictionary\n",
        "phonebook={\"Nirdesh\":\"9627139345\",\"Sharma\":\"8535013934\"}\n",
        "phonebook.clear()\n",
        "print(phonebook)"
      ],
      "metadata": {
        "colab": {
          "base_uri": "https://localhost:8080/"
        },
        "id": "nwpoVmBYsEt8",
        "outputId": "109d6609-995f-4af1-e8f4-0ec87a68993b"
      },
      "execution_count": null,
      "outputs": [
        {
          "output_type": "stream",
          "name": "stdout",
          "text": [
            "{}\n"
          ]
        }
      ]
    },
    {
      "cell_type": "code",
      "source": [
        "t1=(1,2,3,4,5)\n",
        "t1=set((1,2,3,4,5))\n",
        "print(t1)\n"
      ],
      "metadata": {
        "colab": {
          "base_uri": "https://localhost:8080/"
        },
        "id": "f_YJTPMSu4oE",
        "outputId": "f92355de-6dc2-4898-8965-17654f4ed9e5"
      },
      "execution_count": null,
      "outputs": [
        {
          "output_type": "stream",
          "name": "stdout",
          "text": [
            "{1, 2, 3, 4, 5}\n"
          ]
        }
      ]
    },
    {
      "cell_type": "code",
      "source": [
        "class rectangle:\n",
        "  def input(self):\n",
        "    self.l=int(input(\"Enter the value of l\"))\n",
        "    self.w=int(input(\"Enter the value of w\"))\n",
        "  def calculate(self):\n",
        "      print(self.l*self.w)\n",
        "obj=rectangle()\n",
        "obj.input()\n",
        "obj.calculate()"
      ],
      "metadata": {
        "colab": {
          "base_uri": "https://localhost:8080/"
        },
        "id": "dbZEyCCxu5MV",
        "outputId": "611a45de-c60e-4efb-fb6c-eda2cd4e6294"
      },
      "execution_count": null,
      "outputs": [
        {
          "output_type": "stream",
          "name": "stdout",
          "text": [
            "Enter the value of l12\n",
            "Enter the value of w12\n",
            "144\n"
          ]
        }
      ]
    },
    {
      "cell_type": "code",
      "source": [
        "# Object oriented programing with Python\n",
        "#  OOPS:\n",
        "# 1. Class \n",
        "# 2. Object\n",
        "# 3. Inheritance  \n",
        "# 4. Polymorphism\n",
        "# 5. Encapsulation\n",
        "# 6. Abstraction \n",
        "\n"
      ],
      "metadata": {
        "id": "KEdKDpshxmem"
      },
      "execution_count": null,
      "outputs": []
    },
    {
      "cell_type": "code",
      "source": [
        "class Parent():\n",
        "  def _init_(self,name,profession):\n",
        "    self.name = name\n",
        "    self.profession = profession\n",
        "    print(self.name,self.profession)"
      ],
      "metadata": {
        "id": "CH7R6mPjIuw7"
      },
      "execution_count": null,
      "outputs": []
    },
    {
      "cell_type": "code",
      "source": [
        "person1 = Parent()\n",
        "person2 = Parent()\n",
        "person3 = Parent()\n",
        "person4 = Parent()\n",
        "person5 = Parent()\n",
        "person1._init_(\"Yogendra Sharma\",\"papa g\")\n",
        "person2._init_(\"Atendra Sharma\",\"tau g\")\n",
        "person3._init_(\"Sachin Sharma\",\"chachu\")\n",
        "person4._init_(\"Aadesh Sharma\",\"mama g\")\n",
        "person5._init_(\"Sagar Sharma\",\"brother\")\n",
        "print(person1)\n",
        "print(person2)\n",
        "print(person3)\n",
        "print(person4)\n",
        "print(person5)"
      ],
      "metadata": {
        "colab": {
          "base_uri": "https://localhost:8080/"
        },
        "id": "CPWC8F-KM4Ls",
        "outputId": "0d5f37d0-49ee-4fa6-93ce-a954536c68c0"
      },
      "execution_count": null,
      "outputs": [
        {
          "output_type": "stream",
          "name": "stdout",
          "text": [
            "Yogendra Sharma papa g\n",
            "Atendra Sharma tau g\n",
            "Sachin Sharma chachu\n",
            "Aadesh Sharma mama g\n",
            "Sagar Sharma brother\n",
            "<__main__.Parent object at 0x7f65849dee50>\n",
            "<__main__.Parent object at 0x7f65849de430>\n",
            "<__main__.Parent object at 0x7f65849deaf0>\n",
            "<__main__.Parent object at 0x7f65849dea00>\n",
            "<__main__.Parent object at 0x7f65849de3a0>\n"
          ]
        }
      ]
    },
    {
      "cell_type": "code",
      "source": [
        "class Festivals():\n",
        "  def __init__(self,name,month,days,god,activity,sweets):\n",
        "    self.name = name\n",
        "    self.month = month\n",
        "    self.days = days\n",
        "    self.god = god\n",
        "    self.activity = activity\n",
        "    self.sweets = sweets\n",
        "  "
      ],
      "metadata": {
        "id": "D9Zfok_cW5mB"
      },
      "execution_count": null,
      "outputs": []
    },
    {
      "cell_type": "code",
      "source": [],
      "metadata": {
        "id": "4AeMHlI7ej2i"
      },
      "execution_count": null,
      "outputs": []
    },
    {
      "cell_type": "code",
      "source": [
        "dasara = Festivals(['mahanavami','durga puja','vijay dashmi'],\n",
        "                   'october',\n",
        "                   10,\n",
        "                   ('ram','durga'),\n",
        "                   ('worship','sing','keep dolls','dance','procession'),\n",
        "                   {1:'kalakand',\n",
        "                    2:'rasagulla',\n",
        "                    3:'chum chum'})\n"
      ],
      "metadata": {
        "id": "p4bNRp7NYsS_"
      },
      "execution_count": null,
      "outputs": []
    },
    {
      "cell_type": "code",
      "source": [
        "class product:\n",
        "  def inputdata(self):\n",
        "    self.product=input(\"Enter the product \")\n",
        "    self.price=input(\"Enter the price\")\n",
        "    self.quantity=input(\"Enter the quantity\")\n",
        "    self.discount=input(\"Enter the discount\")\n",
        "\n",
        "  def calculation(self):\n",
        "    self.discount =(self.price*self.quantity)-10/100\n",
        "    self.totalbill =(self.price*self.quantity)-self.discount \n",
        "    print(self.discount)\n",
        "    print(self.totalbill)\n",
        "\n",
        "obj1=product()\n",
        "obj1.inputdata()\n",
        "obj1.calculation    \n"
      ],
      "metadata": {
        "colab": {
          "base_uri": "https://localhost:8080/"
        },
        "id": "RYa1U6QVaY4B",
        "outputId": "86a44022-dfd4-4ad7-f82d-f83b0f5894d8"
      },
      "execution_count": null,
      "outputs": [
        {
          "name": "stdout",
          "output_type": "stream",
          "text": [
            "Enter the product  43\n",
            "Enter the price 999999999999\n",
            "Enter the quantity 5\n",
            "Enter the discount 30\n"
          ]
        },
        {
          "output_type": "execute_result",
          "data": {
            "text/plain": [
              "<bound method product.calculation of <__main__.product object at 0x7f65849ded60>>"
            ]
          },
          "metadata": {},
          "execution_count": 39
        }
      ]
    },
    {
      "cell_type": "code",
      "source": [
        "class A:\n",
        "  def adata(self):\n",
        "    print(\"a data call\")\n",
        "class B(A):\n",
        "  def bdata(self):\n",
        "    print(\"b data call\")\n",
        "\n",
        "obj=B()\n",
        "obj.adata()        \n",
        "obj.bdata()\n"
      ],
      "metadata": {
        "colab": {
          "base_uri": "https://localhost:8080/"
        },
        "id": "w9Lh9cBeioxN",
        "outputId": "fa39c67c-afe1-46aa-a1f0-80bb28f157b9"
      },
      "execution_count": null,
      "outputs": [
        {
          "output_type": "stream",
          "name": "stdout",
          "text": [
            "a data call\n",
            "b data call\n"
          ]
        }
      ]
    },
    {
      "cell_type": "code",
      "source": [
        "# Multilevel Inheritance\n",
        "class A:\n",
        "  def Adata(self):\n",
        "    print(\"Method of A\")\n",
        "class B(A):\n",
        "  def Bdata(self):\n",
        "    print(\"Method of B\")\n",
        "class C(B):\n",
        "  def Cdata(self):\n",
        "    print(\"Method of C\")\n",
        "obj=C()\n",
        "obj.Adata()\n",
        "obj.Bdata()\n",
        "obj.Cdata()        \n"
      ],
      "metadata": {
        "colab": {
          "base_uri": "https://localhost:8080/"
        },
        "id": "W_QPPNDamSfL",
        "outputId": "b9181310-a092-4528-b0d3-75f05fb557a7"
      },
      "execution_count": null,
      "outputs": [
        {
          "output_type": "stream",
          "name": "stdout",
          "text": [
            "Method of A\n",
            "Method of B\n",
            "Method of C\n"
          ]
        }
      ]
    },
    {
      "cell_type": "code",
      "source": [
        "class A:\n",
        "  def Adata(self):\n",
        "    print(\"Method of A\")\n",
        "class B:\n",
        "  def Bdata(self):\n",
        "    print(\"Method of B\")\n",
        "class C(A,B):\n",
        "  def Cdata(self):\n",
        "    print(\"Method of C\")\n",
        "obj=C()\n",
        "obj.Adata()\n",
        "obj.Bdata()\n",
        "obj.Cdata()        \n"
      ],
      "metadata": {
        "colab": {
          "base_uri": "https://localhost:8080/"
        },
        "id": "Se5Ax0nbRhDV",
        "outputId": "97b79c1f-6c75-4d71-fb95-89fc8aa2b94b"
      },
      "execution_count": null,
      "outputs": [
        {
          "output_type": "stream",
          "name": "stdout",
          "text": [
            "Method of A\n",
            "Method of B\n",
            "Method of C\n"
          ]
        }
      ]
    },
    {
      "cell_type": "code",
      "source": [
        "class A:\n",
        "  def Adata(self):\n",
        "    print(\"Method of A\")\n",
        "class B(A):\n",
        "  def Bdata(self):\n",
        "    print(\"Method of B\")\n",
        "class C(B):\n",
        "  def Cdata(self):\n",
        "    print(\"Method of C\")\n",
        "obj=B()\n",
        "obj.Adata()\n",
        "obj.Bdata()\n",
        "#obj.Cdata()        \n"
      ],
      "metadata": {
        "colab": {
          "base_uri": "https://localhost:8080/"
        },
        "id": "vwb5vhNNSZQQ",
        "outputId": "68ea75ac-36b2-4d5f-c415-130c5f1cad39"
      },
      "execution_count": null,
      "outputs": [
        {
          "output_type": "stream",
          "name": "stdout",
          "text": [
            "Method of A\n",
            "Method of B\n"
          ]
        }
      ]
    },
    {
      "cell_type": "code",
      "source": [
        "class A:\n",
        "  def Adata(self):\n",
        "    print(\"Method of A\")\n",
        "class B(A):\n",
        "  def Bdata(self):\n",
        "    print(\"Method of B\")\n",
        "class C(A):\n",
        "  def Cdata(self):\n",
        "    print(\"Method of C\")\n",
        "obj=C()\n",
        "obj.Adata()\n",
        "#obj.Bdata()\n",
        "obj.Cdata()        \n"
      ],
      "metadata": {
        "colab": {
          "base_uri": "https://localhost:8080/"
        },
        "id": "V84YRtT4SgYW",
        "outputId": "87612a11-f2c7-4901-c1b4-3b037c1e50ab"
      },
      "execution_count": null,
      "outputs": [
        {
          "output_type": "stream",
          "name": "stdout",
          "text": [
            "Method of A\n",
            "Method of C\n"
          ]
        }
      ]
    },
    {
      "cell_type": "code",
      "source": [
        "print(5+5)"
      ],
      "metadata": {
        "colab": {
          "base_uri": "https://localhost:8080/"
        },
        "id": "rdIGmY8XTYyq",
        "outputId": "1f645d3a-8a6e-41f0-dc64-972016c5bd0b"
      },
      "execution_count": null,
      "outputs": [
        {
          "output_type": "stream",
          "name": "stdout",
          "text": [
            "10\n"
          ]
        }
      ]
    },
    {
      "cell_type": "code",
      "source": [
        "print(\"5+5\")"
      ],
      "metadata": {
        "colab": {
          "base_uri": "https://localhost:8080/"
        },
        "id": "LsX9SgRjU5nA",
        "outputId": "19c9cb03-13b9-4797-92d4-f0f1ad2d713f"
      },
      "execution_count": null,
      "outputs": [
        {
          "output_type": "stream",
          "name": "stdout",
          "text": [
            "5+5\n"
          ]
        }
      ]
    },
    {
      "cell_type": "code",
      "source": [
        "print(\"5\"+\"5\")"
      ],
      "metadata": {
        "colab": {
          "base_uri": "https://localhost:8080/"
        },
        "id": "MDb5fUjbU8Qn",
        "outputId": "8e77a99b-85b3-49e6-a000-ed02139c98cb"
      },
      "execution_count": null,
      "outputs": [
        {
          "output_type": "stream",
          "name": "stdout",
          "text": [
            "55\n"
          ]
        }
      ]
    },
    {
      "cell_type": "code",
      "source": [
        "class A:\n",
        "  def vsp(self):\n",
        "    print(\"Hello vsp\")\n",
        "class B(A):\n",
        "  def vsp(self):\n",
        "    print(\"Hello python\")\n",
        "  def xyz(self):\n",
        "    print(\"Tata Bye\")     \n",
        "\n",
        "Obj=B()\n",
        "Obj.vsp()\n",
        "Obj.xyz()"
      ],
      "metadata": {
        "colab": {
          "base_uri": "https://localhost:8080/"
        },
        "id": "MC146apaVYCv",
        "outputId": "9ec95ac2-d28d-493d-c0db-086181dd0df3"
      },
      "execution_count": null,
      "outputs": [
        {
          "output_type": "stream",
          "name": "stdout",
          "text": [
            "Hello python\n",
            "Tata Bye\n"
          ]
        }
      ]
    },
    {
      "cell_type": "code",
      "source": [
        "# Abstraction\n",
        "\n",
        "# Abstraction is used to hide the internal Functionality of the function from the user \n",
        "# The users only interact with the basic implementation of the function, but inner working is hidden. Users is familier with that \"What function Does\". But they don't know how it Does.\n",
        "# Exam: Like TV remote\n",
        "\n",
        "# Why Abstraction is \n",
        "\n",
        "\n",
        "class RBI:\n",
        "  def intrest(self):\n",
        "    pass\n",
        "class SBI(RBI):\n",
        "  def intrest(self):\n",
        "    print(\"Self intrest rate is 3.5%\")\n",
        "class HDFC(RBI):\n",
        "  def intrest(self):\n",
        "    print(\"HDFC intrest rate is 5%\")\n",
        "obj=SBI()\n",
        "obj.intrest()\n",
        "obj1=HDFC()\n",
        "obj1.intrest()    "
      ],
      "metadata": {
        "colab": {
          "base_uri": "https://localhost:8080/"
        },
        "id": "y13zTsFjXBko",
        "outputId": "0dd120d4-efd3-4464-95e3-8c3392d4065d"
      },
      "execution_count": null,
      "outputs": [
        {
          "output_type": "stream",
          "name": "stdout",
          "text": [
            "Self intrest rate is 3.5%\n",
            "HDFC intrest rate is 5%\n"
          ]
        }
      ]
    },
    {
      "cell_type": "code",
      "source": [
        "#  ENCAPSULATION\n",
        "\n",
        "The process of wrapping (Combined) up variable & method into a single "
      ],
      "metadata": {
        "id": "QyszRVAybLb9"
      },
      "execution_count": null,
      "outputs": []
    },
    {
      "cell_type": "code",
      "source": [
        "class Super:\n",
        "  def __init__(self):\n",
        "    self._value1=100\n",
        "    self.__value2=200\n",
        "  def display(self):\n",
        "    print(self._value1) \n",
        "    print(self.__value2)\n",
        "class Sub(Super):\n",
        "  def show(self):\n",
        "    print(self._value1)\n",
        "    print(self.__value2)\n",
        "obj=Sub()\n",
        "obj.show()        "
      ],
      "metadata": {
        "colab": {
          "base_uri": "https://localhost:8080/",
          "height": 339
        },
        "id": "RykG1qm7cmcw",
        "outputId": "c92e642f-d457-4587-c05c-633338ef00ea"
      },
      "execution_count": null,
      "outputs": [
        {
          "output_type": "stream",
          "name": "stdout",
          "text": [
            "100\n"
          ]
        },
        {
          "output_type": "error",
          "ename": "AttributeError",
          "evalue": "ignored",
          "traceback": [
            "\u001b[0;31m---------------------------------------------------------------------------\u001b[0m",
            "\u001b[0;31mAttributeError\u001b[0m                            Traceback (most recent call last)",
            "\u001b[0;32m<ipython-input-15-4a62254ffd0f>\u001b[0m in \u001b[0;36m<cell line: 13>\u001b[0;34m()\u001b[0m\n\u001b[1;32m     11\u001b[0m     \u001b[0mprint\u001b[0m\u001b[0;34m(\u001b[0m\u001b[0mself\u001b[0m\u001b[0;34m.\u001b[0m\u001b[0m__value2\u001b[0m\u001b[0;34m)\u001b[0m\u001b[0;34m\u001b[0m\u001b[0;34m\u001b[0m\u001b[0m\n\u001b[1;32m     12\u001b[0m \u001b[0mobj\u001b[0m\u001b[0;34m=\u001b[0m\u001b[0mSub\u001b[0m\u001b[0;34m(\u001b[0m\u001b[0;34m)\u001b[0m\u001b[0;34m\u001b[0m\u001b[0;34m\u001b[0m\u001b[0m\n\u001b[0;32m---> 13\u001b[0;31m \u001b[0mobj\u001b[0m\u001b[0;34m.\u001b[0m\u001b[0mshow\u001b[0m\u001b[0;34m(\u001b[0m\u001b[0;34m)\u001b[0m\u001b[0;34m\u001b[0m\u001b[0;34m\u001b[0m\u001b[0m\n\u001b[0m",
            "\u001b[0;32m<ipython-input-15-4a62254ffd0f>\u001b[0m in \u001b[0;36mshow\u001b[0;34m(self)\u001b[0m\n\u001b[1;32m      9\u001b[0m   \u001b[0;32mdef\u001b[0m \u001b[0mshow\u001b[0m\u001b[0;34m(\u001b[0m\u001b[0mself\u001b[0m\u001b[0;34m)\u001b[0m\u001b[0;34m:\u001b[0m\u001b[0;34m\u001b[0m\u001b[0;34m\u001b[0m\u001b[0m\n\u001b[1;32m     10\u001b[0m     \u001b[0mprint\u001b[0m\u001b[0;34m(\u001b[0m\u001b[0mself\u001b[0m\u001b[0;34m.\u001b[0m\u001b[0m_value1\u001b[0m\u001b[0;34m)\u001b[0m\u001b[0;34m\u001b[0m\u001b[0;34m\u001b[0m\u001b[0m\n\u001b[0;32m---> 11\u001b[0;31m     \u001b[0mprint\u001b[0m\u001b[0;34m(\u001b[0m\u001b[0mself\u001b[0m\u001b[0;34m.\u001b[0m\u001b[0m__value2\u001b[0m\u001b[0;34m)\u001b[0m\u001b[0;34m\u001b[0m\u001b[0;34m\u001b[0m\u001b[0m\n\u001b[0m\u001b[1;32m     12\u001b[0m \u001b[0mobj\u001b[0m\u001b[0;34m=\u001b[0m\u001b[0mSub\u001b[0m\u001b[0;34m(\u001b[0m\u001b[0;34m)\u001b[0m\u001b[0;34m\u001b[0m\u001b[0;34m\u001b[0m\u001b[0m\n\u001b[1;32m     13\u001b[0m \u001b[0mobj\u001b[0m\u001b[0;34m.\u001b[0m\u001b[0mshow\u001b[0m\u001b[0;34m(\u001b[0m\u001b[0;34m)\u001b[0m\u001b[0;34m\u001b[0m\u001b[0;34m\u001b[0m\u001b[0m\n",
            "\u001b[0;31mAttributeError\u001b[0m: 'Sub' object has no attribute '_Sub__value2'"
          ]
        }
      ]
    },
    {
      "cell_type": "code",
      "source": [
        "# Tkinter Python GUI Library\n",
        "from tkinter import* \n",
        "r=Tk()\n",
        "r.geometry(\"500*500\")\n",
        "mainloop()"
      ],
      "metadata": {
        "colab": {
          "base_uri": "https://localhost:8080/",
          "height": 391
        },
        "id": "sgZMRlvdeCFG",
        "outputId": "d0b070e0-e11c-4bfd-a359-f5a0d3248352"
      },
      "execution_count": null,
      "outputs": [
        {
          "output_type": "error",
          "ename": "TclError",
          "evalue": "ignored",
          "traceback": [
            "\u001b[0;31m---------------------------------------------------------------------------\u001b[0m",
            "\u001b[0;31mTclError\u001b[0m                                  Traceback (most recent call last)",
            "\u001b[0;32m<ipython-input-17-b39436cefc37>\u001b[0m in \u001b[0;36m<cell line: 3>\u001b[0;34m()\u001b[0m\n\u001b[1;32m      1\u001b[0m \u001b[0;31m# Tkinter Python GUI Library\u001b[0m\u001b[0;34m\u001b[0m\u001b[0;34m\u001b[0m\u001b[0m\n\u001b[1;32m      2\u001b[0m \u001b[0;32mfrom\u001b[0m \u001b[0mtkinter\u001b[0m \u001b[0;32mimport\u001b[0m\u001b[0;34m*\u001b[0m\u001b[0;34m\u001b[0m\u001b[0;34m\u001b[0m\u001b[0m\n\u001b[0;32m----> 3\u001b[0;31m \u001b[0mr\u001b[0m\u001b[0;34m=\u001b[0m\u001b[0mTk\u001b[0m\u001b[0;34m(\u001b[0m\u001b[0;34m)\u001b[0m\u001b[0;34m\u001b[0m\u001b[0;34m\u001b[0m\u001b[0m\n\u001b[0m\u001b[1;32m      4\u001b[0m \u001b[0mr\u001b[0m\u001b[0;34m.\u001b[0m\u001b[0mgeometry\u001b[0m\u001b[0;34m(\u001b[0m\u001b[0;34m\"500*500\"\u001b[0m\u001b[0;34m)\u001b[0m\u001b[0;34m\u001b[0m\u001b[0;34m\u001b[0m\u001b[0m\n\u001b[1;32m      5\u001b[0m \u001b[0mmainloop\u001b[0m\u001b[0;34m(\u001b[0m\u001b[0;34m)\u001b[0m\u001b[0;34m\u001b[0m\u001b[0;34m\u001b[0m\u001b[0m\n",
            "\u001b[0;32m/usr/lib/python3.9/tkinter/__init__.py\u001b[0m in \u001b[0;36m__init__\u001b[0;34m(self, screenName, baseName, className, useTk, sync, use)\u001b[0m\n\u001b[1;32m   2268\u001b[0m                 \u001b[0mbaseName\u001b[0m \u001b[0;34m=\u001b[0m \u001b[0mbaseName\u001b[0m \u001b[0;34m+\u001b[0m \u001b[0mext\u001b[0m\u001b[0;34m\u001b[0m\u001b[0;34m\u001b[0m\u001b[0m\n\u001b[1;32m   2269\u001b[0m         \u001b[0minteractive\u001b[0m \u001b[0;34m=\u001b[0m \u001b[0;32mFalse\u001b[0m\u001b[0;34m\u001b[0m\u001b[0;34m\u001b[0m\u001b[0m\n\u001b[0;32m-> 2270\u001b[0;31m         \u001b[0mself\u001b[0m\u001b[0;34m.\u001b[0m\u001b[0mtk\u001b[0m \u001b[0;34m=\u001b[0m \u001b[0m_tkinter\u001b[0m\u001b[0;34m.\u001b[0m\u001b[0mcreate\u001b[0m\u001b[0;34m(\u001b[0m\u001b[0mscreenName\u001b[0m\u001b[0;34m,\u001b[0m \u001b[0mbaseName\u001b[0m\u001b[0;34m,\u001b[0m \u001b[0mclassName\u001b[0m\u001b[0;34m,\u001b[0m \u001b[0minteractive\u001b[0m\u001b[0;34m,\u001b[0m \u001b[0mwantobjects\u001b[0m\u001b[0;34m,\u001b[0m \u001b[0museTk\u001b[0m\u001b[0;34m,\u001b[0m \u001b[0msync\u001b[0m\u001b[0;34m,\u001b[0m \u001b[0muse\u001b[0m\u001b[0;34m)\u001b[0m\u001b[0;34m\u001b[0m\u001b[0;34m\u001b[0m\u001b[0m\n\u001b[0m\u001b[1;32m   2271\u001b[0m         \u001b[0;32mif\u001b[0m \u001b[0museTk\u001b[0m\u001b[0;34m:\u001b[0m\u001b[0;34m\u001b[0m\u001b[0;34m\u001b[0m\u001b[0m\n\u001b[1;32m   2272\u001b[0m             \u001b[0mself\u001b[0m\u001b[0;34m.\u001b[0m\u001b[0m_loadtk\u001b[0m\u001b[0;34m(\u001b[0m\u001b[0;34m)\u001b[0m\u001b[0;34m\u001b[0m\u001b[0;34m\u001b[0m\u001b[0m\n",
            "\u001b[0;31mTclError\u001b[0m: no display name and no $DISPLAY environment variable"
          ]
        }
      ]
    },
    {
      "cell_type": "code",
      "source": [
        "from tkinter import* \n",
        "r=Tk()\n",
        "r.geometry(\"500x500\")\n",
        "r.title(\"Reg from\")\n",
        "r.configure(bg=\"purple\")\n",
        "r.resizable(0,0)\n",
        "na=Label(r,text=\"Name\",\"Roll no.\",\"Father name\",\"Address\",font=\"30\")\n",
        "na.place(x=30,y=30)\n",
        "mainloop()"
      ],
      "metadata": {
        "colab": {
          "base_uri": "https://localhost:8080/",
          "height": 131
        },
        "id": "DvEHea8eqRWs",
        "outputId": "1a3014c6-5155-4db5-e584-b1948134c38b"
      },
      "execution_count": null,
      "outputs": [
        {
          "output_type": "error",
          "ename": "SyntaxError",
          "evalue": "ignored",
          "traceback": [
            "\u001b[0;36m  File \u001b[0;32m\"<ipython-input-18-70d6a27d35bf>\"\u001b[0;36m, line \u001b[0;32m7\u001b[0m\n\u001b[0;31m    na=Label(r,text=\"Name\",\"Roll no.\",\"Father name\",\"Address\",font=\"30\")\u001b[0m\n\u001b[0m                                                                       ^\u001b[0m\n\u001b[0;31mSyntaxError\u001b[0m\u001b[0;31m:\u001b[0m positional argument follows keyword argument\n"
          ]
        }
      ]
    },
    {
      "cell_type": "code",
      "source": [
        "from tkinter import* \n",
        "r=Tk()\n",
        "r.geometry(\"500x500\")\n",
        "r.title(\"Reg from\")\n",
        "r.configure(bg=\"purple\")\n",
        "r.resizable(0,0)\n",
        "na=Label(r,text=\"Name\",font=\"30\")\n",
        "na.place(x=30,y=30)\n",
        "ag=Label(r,text=\"Age\",font=\"30\")\n",
        "ag.place(x=30,y=100)\n",
        "ag_entry=Entry(font=\"30\")\n",
        "ag_entry.place(x=160,y=100)\n",
        "na_entry=Entry(font=\"30\")\n",
        "na_entry.place(x=160,y=30)\n",
        "ci=Label(r,text=\"City\",font=\"30\")\n",
        "ci.place(x=30,y=170)\n",
        "ci_entry=Entry(font=\"30\")\n",
        "ci_entry.place(x=160,y=170)\n",
        "\n",
        "button1=Button(r,text=\"Submit\",font=\"60\")\n",
        "button1.place(x=30,y=420)\n",
        "button2=Button(r,text=\"Submit\",font=\"60\")\n",
        "button2.place(x=160,y=420)\n",
        "button3=Button(r,text=\"Exit\",font=\"60\")\n",
        "button3.place(x=250,y=420)\n",
        "mainloop()"
      ],
      "metadata": {
        "colab": {
          "base_uri": "https://localhost:8080/",
          "height": 391
        },
        "id": "f5Wl0Ye6wAIe",
        "outputId": "596a660c-a202-49e0-8e3f-312b2d01d0a7"
      },
      "execution_count": null,
      "outputs": [
        {
          "output_type": "error",
          "ename": "TclError",
          "evalue": "ignored",
          "traceback": [
            "\u001b[0;31m---------------------------------------------------------------------------\u001b[0m",
            "\u001b[0;31mTclError\u001b[0m                                  Traceback (most recent call last)",
            "\u001b[0;32m<ipython-input-19-b2e72037a8c1>\u001b[0m in \u001b[0;36m<cell line: 2>\u001b[0;34m()\u001b[0m\n\u001b[1;32m      1\u001b[0m \u001b[0;32mfrom\u001b[0m \u001b[0mtkinter\u001b[0m \u001b[0;32mimport\u001b[0m\u001b[0;34m*\u001b[0m\u001b[0;34m\u001b[0m\u001b[0;34m\u001b[0m\u001b[0m\n\u001b[0;32m----> 2\u001b[0;31m \u001b[0mr\u001b[0m\u001b[0;34m=\u001b[0m\u001b[0mTk\u001b[0m\u001b[0;34m(\u001b[0m\u001b[0;34m)\u001b[0m\u001b[0;34m\u001b[0m\u001b[0;34m\u001b[0m\u001b[0m\n\u001b[0m\u001b[1;32m      3\u001b[0m \u001b[0mr\u001b[0m\u001b[0;34m.\u001b[0m\u001b[0mgeometry\u001b[0m\u001b[0;34m(\u001b[0m\u001b[0;34m\"500x500\"\u001b[0m\u001b[0;34m)\u001b[0m\u001b[0;34m\u001b[0m\u001b[0;34m\u001b[0m\u001b[0m\n\u001b[1;32m      4\u001b[0m \u001b[0mr\u001b[0m\u001b[0;34m.\u001b[0m\u001b[0mtitle\u001b[0m\u001b[0;34m(\u001b[0m\u001b[0;34m\"Reg from\"\u001b[0m\u001b[0;34m)\u001b[0m\u001b[0;34m\u001b[0m\u001b[0;34m\u001b[0m\u001b[0m\n\u001b[1;32m      5\u001b[0m \u001b[0mr\u001b[0m\u001b[0;34m.\u001b[0m\u001b[0mconfigure\u001b[0m\u001b[0;34m(\u001b[0m\u001b[0mbg\u001b[0m\u001b[0;34m=\u001b[0m\u001b[0;34m\"purple\"\u001b[0m\u001b[0;34m)\u001b[0m\u001b[0;34m\u001b[0m\u001b[0;34m\u001b[0m\u001b[0m\n",
            "\u001b[0;32m/usr/lib/python3.9/tkinter/__init__.py\u001b[0m in \u001b[0;36m__init__\u001b[0;34m(self, screenName, baseName, className, useTk, sync, use)\u001b[0m\n\u001b[1;32m   2268\u001b[0m                 \u001b[0mbaseName\u001b[0m \u001b[0;34m=\u001b[0m \u001b[0mbaseName\u001b[0m \u001b[0;34m+\u001b[0m \u001b[0mext\u001b[0m\u001b[0;34m\u001b[0m\u001b[0;34m\u001b[0m\u001b[0m\n\u001b[1;32m   2269\u001b[0m         \u001b[0minteractive\u001b[0m \u001b[0;34m=\u001b[0m \u001b[0;32mFalse\u001b[0m\u001b[0;34m\u001b[0m\u001b[0;34m\u001b[0m\u001b[0m\n\u001b[0;32m-> 2270\u001b[0;31m         \u001b[0mself\u001b[0m\u001b[0;34m.\u001b[0m\u001b[0mtk\u001b[0m \u001b[0;34m=\u001b[0m \u001b[0m_tkinter\u001b[0m\u001b[0;34m.\u001b[0m\u001b[0mcreate\u001b[0m\u001b[0;34m(\u001b[0m\u001b[0mscreenName\u001b[0m\u001b[0;34m,\u001b[0m \u001b[0mbaseName\u001b[0m\u001b[0;34m,\u001b[0m \u001b[0mclassName\u001b[0m\u001b[0;34m,\u001b[0m \u001b[0minteractive\u001b[0m\u001b[0;34m,\u001b[0m \u001b[0mwantobjects\u001b[0m\u001b[0;34m,\u001b[0m \u001b[0museTk\u001b[0m\u001b[0;34m,\u001b[0m \u001b[0msync\u001b[0m\u001b[0;34m,\u001b[0m \u001b[0muse\u001b[0m\u001b[0;34m)\u001b[0m\u001b[0;34m\u001b[0m\u001b[0;34m\u001b[0m\u001b[0m\n\u001b[0m\u001b[1;32m   2271\u001b[0m         \u001b[0;32mif\u001b[0m \u001b[0museTk\u001b[0m\u001b[0;34m:\u001b[0m\u001b[0;34m\u001b[0m\u001b[0;34m\u001b[0m\u001b[0m\n\u001b[1;32m   2272\u001b[0m             \u001b[0mself\u001b[0m\u001b[0;34m.\u001b[0m\u001b[0m_loadtk\u001b[0m\u001b[0;34m(\u001b[0m\u001b[0;34m)\u001b[0m\u001b[0;34m\u001b[0m\u001b[0;34m\u001b[0m\u001b[0m\n",
            "\u001b[0;31mTclError\u001b[0m: no display name and no $DISPLAY environment variable"
          ]
        }
      ]
    },
    {
      "cell_type": "code",
      "source": [
        "from tkinter import*\n",
        "from tkinter import messagebox\n",
        "r=Tk()\n",
        "r.geometry(\"500x500\")\n",
        "r.title(\"Reg from\")\n",
        "r.configure(bg=\"purple\")\n",
        "r.resizable(0,0)\n",
        "def submit():\n",
        "    name=na_entry.get()\n",
        "    age=ag_entry.get()\n",
        "    city=ci_entry.get()\n",
        "    father=fa_entry.get()\n",
        "    with open (name+\".txt\",\"w\") as f:\n",
        "        f.write(name+\"\\n\")\n",
        "        f.write(age+\"\\n\")\n",
        "        f.write(city+\"\\n\")\n",
        "        f.write(father+\"\\n\")\n",
        "        if name==\"\":\n",
        "            messagebox.showerror(\"error\",\n",
        "                                \"please enter ur name \")\n",
        "        elif age==\"\":\n",
        "            messagebox.showerror(\"error\",\n",
        "                                \"please enter ur age\")\n",
        "        elif city==\"\":\n",
        "            messagebox.showerror(\"error\",\n",
        "                                \"please enter ur city\")\n",
        "        elif father==\"\":            messagebox.showerror(\"error\",\n",
        "                                \"please enter ur father\")\n",
        "        else:\n",
        "            messagebox.showinfo(\"Success\",\n",
        "                               \"Registration success\")\n",
        "def clear():\n",
        "    na_entry.delete(0,END)\n",
        "    ag_entry.delete(0,END)\n",
        "    ci_entry.delete(0,END)\n",
        "    fa_entry.delete(0,END)\n",
        "\n",
        "na=Label(r,text=\"Name\",font=\"30\")\n",
        "na.place(x=30,y=30)\n",
        "\n",
        "ag=Label(r,text=\"Age\",font=\"30\")\n",
        "ag.place(x=30,y=100)\n",
        "ag_entry=Entry(font=\"30\")\n",
        "ag_entry.place(x=160,y=100)\n",
        "\n",
        "na_entry=Entry(font=\"30\")\n",
        "na_entry.place(x=160,y=30)\n",
        "\n",
        "ci=Label(r,text=\"City\",font=\"30\")\n",
        "ci.place(x=30,y=170)\n",
        "ci_entry=Entry(font=\"30\")\n",
        "ci_entry.place(x=160,y=170)\n",
        "\n",
        "fa=Label(r,text=\"Father Name\",font=\"30\")\n",
        "fa.place(x=30,y=240)\n",
        "fa_entry=Entry(font=\"30\")\n",
        "fa_entry.place(x=\"160\",y=\"240\")\n",
        "\n",
        "\n",
        "\n",
        "button1=Button(r,text=\"Submit\",font=\"60\",fg=\"Yellow\",command=submit)\n",
        "button1.place(x=30,y=420)\n",
        "button2=Button(r,text=\"Clear\",font=\"60\",fg=\"Yellow\",command=clear)\n",
        "button2.place(x=160,y=420)\n",
        "button3=Button(r,text=\"Exit\",font=\"60\",fg=\"Yellow\",command=lambda:exit())\n",
        "button3.place(x=270,y=420)\n",
        "mainloop()\n"
      ],
      "metadata": {
        "id": "XgxSR4L3c_xc"
      },
      "execution_count": null,
      "outputs": []
    },
    {
      "cell_type": "code",
      "source": [
        "from tkinter import*\n",
        "from tkinter import ttk\n",
        "r=Tk()\n",
        "r.geometry(\"500x500\")\n",
        "r.title(\"Combobox\")\n",
        "r.resizable(0,0)\n",
        "r.configure()\n",
        "\n",
        "def Calculate_bill():\n",
        "    quantity=int(quantity_entry.get())\n",
        "    price=int(price_entry.get())\n",
        "    discount=int(discount_entry.get())\n",
        "    Total_bill=(price*quantity)-((price*discount)/100)\n",
        "    Total_bill=Label(r,text=Total_bill,font=\"30\")\n",
        "    Total_bill.place(x=190,y=190)\n",
        "\n",
        "def Clear():\n",
        "    quantity_entry.delete(0,END)\n",
        "    price_entry.delete(0,END)    \n",
        "    discount_entry.delete(0,END)\n",
        "    \n",
        "name=Label(r,text=\"Product Name\",font=\"30\")\n",
        "name.place(x=30,y=30)\n",
        "combobox=ttk.Combobox(r,font=\"30\")\n",
        "combobox[\"value\"]=\"Jeans\",\"Top\",\"Tilak\"\n",
        "combobox.place(x=190,y=30)\n",
        "\n",
        "quantity=Label(r,text=\"Quantity\",font=\"30\")\n",
        "quantity.place(x=30,y=70)\n",
        "quantity_entry=Entry(font=\"30\")\n",
        "quantity_entry.place(x=190,y=70)\n",
        "\n",
        "price=Label(r,text=\"price\",font=\"30\")\n",
        "price.place(x=30,y=110)\n",
        "price_entry=Entry(font=\"30\")\n",
        "price_entry.place(x=190,y=110)\n",
        "\n",
        "discount=Label(r,text=\"discount\",font=\"30\")\n",
        "discount.place(x=30,y=150)\n",
        "discount_entry=Entry(font=\"30\")\n",
        "discount_entry.place(x=190,y=150)\n",
        "\n",
        "Total_bill=Label(r,text=\"Total bill\",font=\"30\")\n",
        "Total_bill.place(x=30,y=190)\n",
        "\n",
        "button1=Button(r,text=\"Calculate bill\",font=\"60\",command=Calculate_bill)\n",
        "button1.place(x=30,y=420)\n",
        "\n",
        "button2=Button(r,text=\"Clear\",font=\"60\",command=Clear)\n",
        "button2.place(x=230,y=420)\n",
        "\n",
        "mainloop()"
      ],
      "metadata": {
        "id": "PGBGSv3Vn3qw"
      },
      "execution_count": null,
      "outputs": []
    },
    {
      "cell_type": "code",
      "source": [],
      "metadata": {
        "id": "e_Nk4AiPmO58"
      },
      "execution_count": null,
      "outputs": []
    }
  ]
}